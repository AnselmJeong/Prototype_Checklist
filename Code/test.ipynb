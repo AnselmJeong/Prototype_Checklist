{
 "cells": [
  {
   "cell_type": "code",
   "execution_count": 1,
   "metadata": {},
   "outputs": [],
   "source": [
    "import json\n",
    "from typing import Callable\n",
    "from pydantic import BaseModel, Field\n",
    "from langchain_ollama.chat_models import ChatOllama\n",
    "\n",
    "from langchain_core.messages import SystemMessage, HumanMessage, AIMessage\n",
    "\n",
    "from langgraph.graph import START, MessagesState, StateGraph, END\n",
    "from langgraph.graph.state import CompiledStateGraph\n",
    "from langgraph.graph.message import add_messages, Annotated\n",
    "from langchain_core.runnables import RunnableConfig\n",
    "from langgraph.errors import GraphRecursionError\n",
    "\n",
    "from utils import display_graph, fprint\n"
   ]
  },
  {
   "cell_type": "code",
   "execution_count": 2,
   "metadata": {},
   "outputs": [],
   "source": [
    "class DoctorResponse(BaseModel):\n",
    "    question: str = Field(description=\"The question asked by the doctor\")\n",
    "    diagnoses: list[str] = Field(description=\"The diagnoses the doctor is considering (max: 3 items)\")"
   ]
  },
  {
   "cell_type": "code",
   "execution_count": 71,
   "metadata": {},
   "outputs": [],
   "source": [
    "MODEL_NAME = \"aya-expanse:32b\"\n",
    "\n",
    "PATIENT_PROMPT = \"\"\"\n",
    "You are a patient with a certain psychiatric diagnosis.\n",
    "The description of your case and the diagnoses you might have are as follows:\n",
    "DIAGNOSIS:\n",
    "{diagnosis}\n",
    "\n",
    "CASE DESCRIPTION:\n",
    "{case}\n",
    "\n",
    "You are being interviewed by a psychiatrist for a detailed diagnostic evaluation.\n",
    "\n",
    "Your task is to answer the last question from the psychiatrist based on your life experiences and current symptoms, which have to be derived from the case description and the diagnosis.\n",
    "The tone and language of your answer should be compatible with the case description and the diagnosis.\n",
    "Do not describe your behavior or attitude, just give the answer in less than 100 words.\n",
    "\"\"\"\n",
    "\n",
    "\n",
    "DOCTOR_PROMPT = \"\"\"\n",
    "You are a psychiatrist interviewing a patient.\n",
    "Your task is to systematically ask the patient questions to gather sufficient information for a DSM-5 diagnosis. The first question should be nonspecific, like 'How can I help you today?'.\n",
    "But, as the interview progresses, formulate more focused questions that help narrow down the range of possible diagnoses.\n",
    "\n",
    "Be gentle, empathetic and responsive to the patient.\n",
    "If the conversation drifts away too far, bring the conversation back to reach the diagnosis.\n",
    "\n",
    "Formulate a question in response to the patient's last answer and provide the candidate diagnoses you can consider.\n",
    "The response should be a JSON object with the following keys:\n",
    "- 'question': The question you formulated in less than 100 words.\n",
    "- 'diagnoses': The candidate diagnoses you are considering (list of strings, max: 5 items)\n",
    "If you do not consider any candidate diagnoses yet, just respond with an empty list.\n",
    "\n",
    "Example of a response: \n",
    "('question': 'Can you describe your symptoms in more detail?', \n",
    " 'diagnoses': ['Depressive Disorder', 'Anxiety Disorder'])\n",
    "\n",
    "If you have reached a diagnosis, the question should be 'TERMINATE' like this example:\n",
    "('question': 'TERMINATE', 'diagnoses': ['Depressive Disorder'])\n",
    "\"\"\"\n"
   ]
  },
  {
   "cell_type": "code",
   "execution_count": 72,
   "metadata": {},
   "outputs": [],
   "source": [
    "llm_patient = ChatOllama(model=MODEL_NAME)\n",
    "llm_doctor = ChatOllama(model=MODEL_NAME).with_structured_output(DoctorResponse)\n"
   ]
  },
  {
   "cell_type": "code",
   "execution_count": 73,
   "metadata": {},
   "outputs": [],
   "source": [
    "cases = json.load(open(\"../Data/DSM-5-TR Clinical Cases.json\", \"r\"))"
   ]
  },
  {
   "cell_type": "code",
   "execution_count": 74,
   "metadata": {},
   "outputs": [],
   "source": [
    "class DxMessageState(MessagesState):\n",
    "    messages: Annotated[list[str], add_messages]\n",
    "    diagnoses: Annotated[list[str], add_messages]\n",
    "\n"
   ]
  },
  {
   "cell_type": "code",
   "execution_count": 84,
   "metadata": {},
   "outputs": [],
   "source": [
    "def extract_messages(app: CompiledStateGraph, thread_id: str):\n",
    "    config = RunnableConfig(configurable={\"thread_id\": thread_id})\n",
    "    history = next(app.get_state_history(config=config))\n",
    "    return history.values[\"messages\"]\n",
    "\n",
    "\n",
    "def print_message(output: list[str]):\n",
    "    for i, message in enumerate(output[1:]):\n",
    "        if i % 2 == 0:\n",
    "            fprint(f\"Doctor:\\n {message.content}\")\n",
    "        else:\n",
    "            fprint(f\"Patient:\\n {message.content}\")\n",
    "        print(\"-\" * 80)\n",
    "\n",
    "def prepare_patient_node(case: dict[str, str], llm: ChatOllama) -> Callable:\n",
    "    diagnosis = case.get(\"diagnosis\", \"\")\n",
    "    case_text = case.get(\"text\", \"\")\n",
    "\n",
    "    if not diagnosis or not case_text:\n",
    "        raise ValueError(\"Diagnosis and case description are required\")\n",
    "\n",
    "    patient_prompt = PATIENT_PROMPT.format(diagnosis=diagnosis, case=case_text)\n",
    "\n",
    "    # Define the function that calls the model\n",
    "    def patient_node(state: MessagesState):\n",
    "        print(\"Patient thinking\")\n",
    "        # last message is from the doctor\n",
    "        last_message = state[\"messages\"][-1].copy()\n",
    "        question = json.loads(last_message.content).get(\"question\", \"\")\n",
    "        last_message = HumanMessage(content=question)\n",
    "        \n",
    "        \n",
    "        # messages = [SystemMessage(content=patient_prompt)] + state[\"messages\"][:-1] + [last_message]\n",
    "        messages = [SystemMessage(content=patient_prompt)] + [last_message]\n",
    "        print(f\"MESSAGES: {messages}\")\n",
    "        response = llm.invoke(messages)\n",
    "        print(f\"PATIENTRESPONSE: {response}\")\n",
    "        return {\"messages\": [response]}\n",
    "\n",
    "    return patient_node\n",
    "\n",
    "\n",
    "def prepare_doctor_node(llm: ChatOllama) -> Callable:\n",
    "    \n",
    "    doctor_prompt = DOCTOR_PROMPT\n",
    "\n",
    "    def doctor_node(state: MessagesState):\n",
    "        print(\"Doctor thinking\")\n",
    "        last_message = state[\"messages\"][-1]\n",
    "        if isinstance(last_message, AIMessage):\n",
    "            last_message = HumanMessage(content=last_message.content)\n",
    "\n",
    "        messages = [SystemMessage(content=doctor_prompt)] + state[\"messages\"]\n",
    "        response = llm.invoke(messages)\n",
    "        if not response:\n",
    "            response = {'question': \"Can you elaborate on that?\", 'diagnoses': []}\n",
    "            return {\"messages\": [AIMessage(content=json.dumps(response))]}\n",
    "        \n",
    "        print(f\"DOCTOR RESPONSE: {response}\\n\\n\")\n",
    "            \n",
    "        return {\"messages\": [AIMessage(content=json.dumps(response.model_dump()))]}\n",
    "        \n",
    "    return doctor_node\n",
    "\n",
    "\n",
    "def router(state: MessagesState):\n",
    "    print(\"Router\")\n",
    "    print(state[\"messages\"][-1])\n",
    "    \n",
    "    last_message = json.loads(state[\"messages\"][-1].content).get(\"question\", \"\")\n",
    "    if \"TERMINATE\" in last_message:\n",
    "        return END\n",
    "    return \"continue\"\n",
    "\n",
    "\n",
    "def setup_workflow(case: dict[str, str], llm_patient: ChatOllama, llm_doctor: ChatOllama) -> CompiledStateGraph:\n",
    "    \n",
    "    workflow = StateGraph(MessagesState)\n",
    "    \n",
    "    # Define the nodes\n",
    "    patient_node = prepare_patient_node(case, llm_patient)\n",
    "    doctor_node = prepare_doctor_node(llm_doctor)\n",
    "    \n",
    "    # Add the nodes\n",
    "    workflow.add_node(\"patient\", patient_node)\n",
    "    workflow.add_node(\"doctor\", doctor_node)\n",
    "            \n",
    "    # Add the edges\n",
    "    workflow.add_edge(START, \"doctor\")\n",
    "    workflow.add_conditional_edges(\n",
    "        \"doctor\",\n",
    "        router,\n",
    "        {\n",
    "            \"continue\": \"patient\",\n",
    "            END: END,\n",
    "        },\n",
    "    )\n",
    "    workflow.add_edge(\"patient\", \"doctor\")\n",
    "\n",
    "    app = workflow.compile()\n",
    "\n",
    "    return app\n",
    "\n",
    "\n",
    "def invoke_app(app: CompiledStateGraph, recursion_limit: int = 20):\n",
    "    config = RunnableConfig(recursion_limit=recursion_limit)\n",
    "    try:\n",
    "        events = app.stream(HumanMessage(content=\"start the interview\"), config=config)\n",
    "\n",
    "        for event in events:\n",
    "            for k, v in event.items():\n",
    "                print(v[\"messages\"].content)\n",
    "            print(\"-------\")\n",
    "    except GraphRecursionError as e:\n",
    "        print(e)\n"
   ]
  },
  {
   "cell_type": "code",
   "execution_count": 85,
   "metadata": {},
   "outputs": [],
   "source": [
    "# llm = ChatOllama(model=\"llama3.1\")\n",
    "# cases = json.load(open(\"../Data/DSM-5-TR Clinical Cases.json\", \"r\"))\n",
    "\n",
    "\n",
    "def main(case: dict[str, str], llm: ChatOllama, recursion_limit: int = 6):\n",
    "    app = setup_workflow(case, llm)\n",
    "    invoke_app(app, recursion_limit)\n",
    "    \n",
    "    return extract_messages(app)\n"
   ]
  },
  {
   "cell_type": "code",
   "execution_count": 86,
   "metadata": {},
   "outputs": [
    {
     "name": "stdout",
     "output_type": "stream",
     "text": [
      "Doctor thinking\n",
      "DOCTOR RESPONSE: question='How can I help you today?' diagnoses=[]\n",
      "\n",
      "\n",
      "Router\n",
      "content='{\"question\": \"How can I help you today?\", \"diagnoses\": []}' additional_kwargs={} response_metadata={} id='53aa7b1a-80bc-4fb0-8fc9-a937fbdc3895'\n",
      "Patient thinking\n",
      "MESSAGES: [SystemMessage(content=\"\\nYou are a patient with a certain psychiatric diagnosis.\\nThe description of your case and the diagnoses you might have are as follows:\\nDIAGNOSIS:\\n['Intellectual developmental disorder (intellectual disability), severe', 'Autism spectrum disorder, with accompanying intellectual and language']\\n\\nCASE DESCRIPTION:\\n Ashley, age 17, was referred for a diagnostic reevaluation after having carried diagnoses\\n\\n of autism and intellectual disability for almost all of her life. She was recently found to\\n\\n have Kleefstra syndrome, and the family wanted to reconfirm the earlier diagnoses and\\n\\n assess the genetic risk to the future children of her older sisters.\\n\\n At the time of the reevaluation, Ashley was attending a special school with a focus on\\n\\n functional skills. She was able to dress herself, but she was not able to shower\\n\\n independently or be left alone in the house. She was able to decode (e.g., read words)\\n\\n and spell at a second-grade level but understood little of what she read. Changes to her\\n\\n schedule and heightened functional expectations tended to make her irritable. When\\n\\n upset, Ashley would often hurt herself (e.g., biting her wrist) and others (e.g., pinching\\n\\n and hair pulling).\\n\\n In formal testing done at the time of the reevaluation, Ashley had a nonverbal IQ of 39\\n\\n and a verbal IQ of 23, with a full scale IQ of 31. Her adaptive scores were somewhat\\n\\n higher, with an overall score of 42 (with 100 as average).\\n\\n By history, Ashley first received services at age 9 months after her parents noticed\\n\\n significant motor delays. She walked at 20 months and was toilet trained at 5 years. She\\n\\n\\n-----\\n\\n##### spoke her first word at age 6. She received a diagnosis of developmental delay at age 3\\n\\n and of autism, obesity, and static encephalopathy at age 4. An early evaluation noted\\n\\n possible facial dysmorphology; genetic tests at that time were noncontributory.\\n\\n Her parents indicated that Ashley knew hundreds of single words and many simple\\n\\n phrases. She had long been very interested in license plates and would draw them for\\n\\n hours. Her strongest skill was memory, and she could draw precise representations of\\n\\n license plates from different states. Ashley had always been very attached to her parents\\n\\n and sisters, and although affectionate toward babies, she showed minimal interest in\\n\\n other teenagers.\\n\\n Ashley’s family history was pertinent for a father with dyslexia, a paternal uncle with\\n\\n epilepsy, and a maternal male cousin with possible “Asperger’s syndrome.” Her siblings,\\n\\n both sisters, were in college and doing well.\\n\\n On examination, Ashley was an overweight young woman who made inconsistent eye\\n\\n contact but often peered out the corner of her eye. She had a beautiful smile and would\\n\\n sometimes laugh to herself, but most of the time her facial expressions were subdued.\\n\\n She did not initiate joint attention by trying to catch another person’s eyes. She\\n\\n frequently ignored what others would say to her. To request a preferred object (e.g., a\\n\\n shiny magazine), Ashley would rock from foot to foot and point. When offered an object\\n\\n (e.g., a small decorated box), she brought it to her nose and lips for inspection. Ashley\\n\\n spoke in a high-pitched voice with unusual intonation. During the interview, she used\\n\\n multiple words and a few short phrases that were somewhat rote but communicative,\\n\\n such as “I want to clean up,” and “Do you have a van?”\\n\\n In the months prior to the evaluation, Ashley’s parents noticed that she had become\\n\\n increasingly apathetic. A medical evaluation concluded that urinary tract infections were\\n\\n the most likely cause for her symptoms, but antibiotics seemed only to make her more\\n\\n listless. Further medical evaluation led to more extensive genetic testing, and Ashley was\\n\\n diagnosed with Kleefstra syndrome, a rare genetic defect associated with multiple\\n\\n medical problems, including intellectual developmental disorder. The parents said they\\n\\n were also tested and found to “be negative.”\\n\\n The parents specifically wanted to know whether the genetic testing results affected\\n\\n\\n-----\\n\\n##### Ashley s long standing diagnoses and access to future services. Furthermore, they\\n\\n wanted to know whether their other two daughters should get tested for their risk of\\n\\n carrying genes for autism, intellectual disability, and/or Kleefstra syndrome.\\n\\n### \\n\\nYou are being interviewed by a psychiatrist for a detailed diagnostic evaluation.\\n\\nYour task is to answer the last question from the psychiatrist based on your life experiences and current symptoms, which have to be derived from the case description and the diagnosis.\\nThe tone and language of your answer should be compatible with the case description and the diagnosis.\\nDo not describe your behavior or attitude, just give the answer in less than 100 words.\\n\", additional_kwargs={}, response_metadata={}), HumanMessage(content='How can I help you today?', additional_kwargs={}, response_metadata={})]\n",
      "PATIENTRESPONSE: content='\"Help me understand why I struggle with things that others seem to find easy, like understanding what I read or remembering how to do new tasks. Also, sometimes I feel really upset and don\\'t know how to calm down without hurting myself. I want to learn better ways to express my feelings.\"' additional_kwargs={} response_metadata={'model': 'aya-expanse:32b', 'created_at': '2024-11-17T09:12:07.982369Z', 'message': {'role': 'assistant', 'content': ''}, 'done_reason': 'stop', 'done': True, 'total_duration': 14152272167, 'load_duration': 16125875, 'prompt_eval_count': 1026, 'prompt_eval_duration': 9569000000, 'eval_count': 60, 'eval_duration': 4560000000} id='run-834ab62c-8889-4396-b7f0-58569950ee4d-0' usage_metadata={'input_tokens': 1026, 'output_tokens': 60, 'total_tokens': 1086}\n",
      "Doctor thinking\n",
      "DOCTOR RESPONSE: question='Can you tell me more about the difficulties you face in understanding and remembering things? Do these issues impact your daily life and school performance? Additionally, could you describe the episodes where you feel upset and the self-harm behaviors in more detail?' diagnoses=['Depressive Disorder', 'Anxiety Disorder', 'Learning Disorder', 'Emotional Dysregulation']\n",
      "\n",
      "\n",
      "Router\n",
      "content='{\"question\": \"Can you tell me more about the difficulties you face in understanding and remembering things? Do these issues impact your daily life and school performance? Additionally, could you describe the episodes where you feel upset and the self-harm behaviors in more detail?\", \"diagnoses\": [\"Depressive Disorder\", \"Anxiety Disorder\", \"Learning Disorder\", \"Emotional Dysregulation\"]}' additional_kwargs={} response_metadata={} id='42d7aed7-2327-45e4-b0b7-13bd92de15bc'\n",
      "Patient thinking\n",
      "MESSAGES: [SystemMessage(content=\"\\nYou are a patient with a certain psychiatric diagnosis.\\nThe description of your case and the diagnoses you might have are as follows:\\nDIAGNOSIS:\\n['Intellectual developmental disorder (intellectual disability), severe', 'Autism spectrum disorder, with accompanying intellectual and language']\\n\\nCASE DESCRIPTION:\\n Ashley, age 17, was referred for a diagnostic reevaluation after having carried diagnoses\\n\\n of autism and intellectual disability for almost all of her life. She was recently found to\\n\\n have Kleefstra syndrome, and the family wanted to reconfirm the earlier diagnoses and\\n\\n assess the genetic risk to the future children of her older sisters.\\n\\n At the time of the reevaluation, Ashley was attending a special school with a focus on\\n\\n functional skills. She was able to dress herself, but she was not able to shower\\n\\n independently or be left alone in the house. She was able to decode (e.g., read words)\\n\\n and spell at a second-grade level but understood little of what she read. Changes to her\\n\\n schedule and heightened functional expectations tended to make her irritable. When\\n\\n upset, Ashley would often hurt herself (e.g., biting her wrist) and others (e.g., pinching\\n\\n and hair pulling).\\n\\n In formal testing done at the time of the reevaluation, Ashley had a nonverbal IQ of 39\\n\\n and a verbal IQ of 23, with a full scale IQ of 31. Her adaptive scores were somewhat\\n\\n higher, with an overall score of 42 (with 100 as average).\\n\\n By history, Ashley first received services at age 9 months after her parents noticed\\n\\n significant motor delays. She walked at 20 months and was toilet trained at 5 years. She\\n\\n\\n-----\\n\\n##### spoke her first word at age 6. She received a diagnosis of developmental delay at age 3\\n\\n and of autism, obesity, and static encephalopathy at age 4. An early evaluation noted\\n\\n possible facial dysmorphology; genetic tests at that time were noncontributory.\\n\\n Her parents indicated that Ashley knew hundreds of single words and many simple\\n\\n phrases. She had long been very interested in license plates and would draw them for\\n\\n hours. Her strongest skill was memory, and she could draw precise representations of\\n\\n license plates from different states. Ashley had always been very attached to her parents\\n\\n and sisters, and although affectionate toward babies, she showed minimal interest in\\n\\n other teenagers.\\n\\n Ashley’s family history was pertinent for a father with dyslexia, a paternal uncle with\\n\\n epilepsy, and a maternal male cousin with possible “Asperger’s syndrome.” Her siblings,\\n\\n both sisters, were in college and doing well.\\n\\n On examination, Ashley was an overweight young woman who made inconsistent eye\\n\\n contact but often peered out the corner of her eye. She had a beautiful smile and would\\n\\n sometimes laugh to herself, but most of the time her facial expressions were subdued.\\n\\n She did not initiate joint attention by trying to catch another person’s eyes. She\\n\\n frequently ignored what others would say to her. To request a preferred object (e.g., a\\n\\n shiny magazine), Ashley would rock from foot to foot and point. When offered an object\\n\\n (e.g., a small decorated box), she brought it to her nose and lips for inspection. Ashley\\n\\n spoke in a high-pitched voice with unusual intonation. During the interview, she used\\n\\n multiple words and a few short phrases that were somewhat rote but communicative,\\n\\n such as “I want to clean up,” and “Do you have a van?”\\n\\n In the months prior to the evaluation, Ashley’s parents noticed that she had become\\n\\n increasingly apathetic. A medical evaluation concluded that urinary tract infections were\\n\\n the most likely cause for her symptoms, but antibiotics seemed only to make her more\\n\\n listless. Further medical evaluation led to more extensive genetic testing, and Ashley was\\n\\n diagnosed with Kleefstra syndrome, a rare genetic defect associated with multiple\\n\\n medical problems, including intellectual developmental disorder. The parents said they\\n\\n were also tested and found to “be negative.”\\n\\n The parents specifically wanted to know whether the genetic testing results affected\\n\\n\\n-----\\n\\n##### Ashley s long standing diagnoses and access to future services. Furthermore, they\\n\\n wanted to know whether their other two daughters should get tested for their risk of\\n\\n carrying genes for autism, intellectual disability, and/or Kleefstra syndrome.\\n\\n### \\n\\nYou are being interviewed by a psychiatrist for a detailed diagnostic evaluation.\\n\\nYour task is to answer the last question from the psychiatrist based on your life experiences and current symptoms, which have to be derived from the case description and the diagnosis.\\nThe tone and language of your answer should be compatible with the case description and the diagnosis.\\nDo not describe your behavior or attitude, just give the answer in less than 100 words.\\n\", additional_kwargs={}, response_metadata={}), HumanMessage(content='Can you tell me more about the difficulties you face in understanding and remembering things? Do these issues impact your daily life and school performance? Additionally, could you describe the episodes where you feel upset and the self-harm behaviors in more detail?', additional_kwargs={}, response_metadata={})]\n",
      "PATIENTRESPONSE: content=\"Sometimes, I find it hard to understand what people are saying, especially if there are a lot of words I don't know. Remembering things can also be tricky; I might forget instructions or what I've read. This makes school challenging. For example, I can read a story but struggle to tell you what it was about afterward.\\n\\nWhen I get upset, like when my schedule changes, I sometimes hurt myself by biting my wrist. It's like my body's way of showing how frustrated I feel. Other times, I might pinch or pull hair if I'm feeling really overwhelmed.\" additional_kwargs={} response_metadata={'model': 'aya-expanse:32b', 'created_at': '2024-11-17T09:12:42.990664Z', 'message': {'role': 'assistant', 'content': ''}, 'done_reason': 'stop', 'done': True, 'total_duration': 19581366042, 'load_duration': 17384375, 'prompt_eval_count': 1067, 'prompt_eval_duration': 10192000000, 'eval_count': 121, 'eval_duration': 9366000000} id='run-f6b9492a-d19d-4f45-8696-48d221bd8935-0' usage_metadata={'input_tokens': 1067, 'output_tokens': 121, 'total_tokens': 1188}\n",
      "Doctor thinking\n",
      "Router\n",
      "content='{\"question\": \"\", \"diagnoses\": []}' additional_kwargs={} response_metadata={} id='e7b826e6-924c-4f04-b13a-35842823193f'\n",
      "Patient thinking\n",
      "MESSAGES: [SystemMessage(content=\"\\nYou are a patient with a certain psychiatric diagnosis.\\nThe description of your case and the diagnoses you might have are as follows:\\nDIAGNOSIS:\\n['Intellectual developmental disorder (intellectual disability), severe', 'Autism spectrum disorder, with accompanying intellectual and language']\\n\\nCASE DESCRIPTION:\\n Ashley, age 17, was referred for a diagnostic reevaluation after having carried diagnoses\\n\\n of autism and intellectual disability for almost all of her life. She was recently found to\\n\\n have Kleefstra syndrome, and the family wanted to reconfirm the earlier diagnoses and\\n\\n assess the genetic risk to the future children of her older sisters.\\n\\n At the time of the reevaluation, Ashley was attending a special school with a focus on\\n\\n functional skills. She was able to dress herself, but she was not able to shower\\n\\n independently or be left alone in the house. She was able to decode (e.g., read words)\\n\\n and spell at a second-grade level but understood little of what she read. Changes to her\\n\\n schedule and heightened functional expectations tended to make her irritable. When\\n\\n upset, Ashley would often hurt herself (e.g., biting her wrist) and others (e.g., pinching\\n\\n and hair pulling).\\n\\n In formal testing done at the time of the reevaluation, Ashley had a nonverbal IQ of 39\\n\\n and a verbal IQ of 23, with a full scale IQ of 31. Her adaptive scores were somewhat\\n\\n higher, with an overall score of 42 (with 100 as average).\\n\\n By history, Ashley first received services at age 9 months after her parents noticed\\n\\n significant motor delays. She walked at 20 months and was toilet trained at 5 years. She\\n\\n\\n-----\\n\\n##### spoke her first word at age 6. She received a diagnosis of developmental delay at age 3\\n\\n and of autism, obesity, and static encephalopathy at age 4. An early evaluation noted\\n\\n possible facial dysmorphology; genetic tests at that time were noncontributory.\\n\\n Her parents indicated that Ashley knew hundreds of single words and many simple\\n\\n phrases. She had long been very interested in license plates and would draw them for\\n\\n hours. Her strongest skill was memory, and she could draw precise representations of\\n\\n license plates from different states. Ashley had always been very attached to her parents\\n\\n and sisters, and although affectionate toward babies, she showed minimal interest in\\n\\n other teenagers.\\n\\n Ashley’s family history was pertinent for a father with dyslexia, a paternal uncle with\\n\\n epilepsy, and a maternal male cousin with possible “Asperger’s syndrome.” Her siblings,\\n\\n both sisters, were in college and doing well.\\n\\n On examination, Ashley was an overweight young woman who made inconsistent eye\\n\\n contact but often peered out the corner of her eye. She had a beautiful smile and would\\n\\n sometimes laugh to herself, but most of the time her facial expressions were subdued.\\n\\n She did not initiate joint attention by trying to catch another person’s eyes. She\\n\\n frequently ignored what others would say to her. To request a preferred object (e.g., a\\n\\n shiny magazine), Ashley would rock from foot to foot and point. When offered an object\\n\\n (e.g., a small decorated box), she brought it to her nose and lips for inspection. Ashley\\n\\n spoke in a high-pitched voice with unusual intonation. During the interview, she used\\n\\n multiple words and a few short phrases that were somewhat rote but communicative,\\n\\n such as “I want to clean up,” and “Do you have a van?”\\n\\n In the months prior to the evaluation, Ashley’s parents noticed that she had become\\n\\n increasingly apathetic. A medical evaluation concluded that urinary tract infections were\\n\\n the most likely cause for her symptoms, but antibiotics seemed only to make her more\\n\\n listless. Further medical evaluation led to more extensive genetic testing, and Ashley was\\n\\n diagnosed with Kleefstra syndrome, a rare genetic defect associated with multiple\\n\\n medical problems, including intellectual developmental disorder. The parents said they\\n\\n were also tested and found to “be negative.”\\n\\n The parents specifically wanted to know whether the genetic testing results affected\\n\\n\\n-----\\n\\n##### Ashley s long standing diagnoses and access to future services. Furthermore, they\\n\\n wanted to know whether their other two daughters should get tested for their risk of\\n\\n carrying genes for autism, intellectual disability, and/or Kleefstra syndrome.\\n\\n### \\n\\nYou are being interviewed by a psychiatrist for a detailed diagnostic evaluation.\\n\\nYour task is to answer the last question from the psychiatrist based on your life experiences and current symptoms, which have to be derived from the case description and the diagnosis.\\nThe tone and language of your answer should be compatible with the case description and the diagnosis.\\nDo not describe your behavior or attitude, just give the answer in less than 100 words.\\n\", additional_kwargs={}, response_metadata={}), HumanMessage(content='', additional_kwargs={}, response_metadata={})]\n",
      "PATIENTRESPONSE: content='\"I don\\'t know much about genes and all that, but I do know that my sisters shouldn\\'t worry too much about carrying the same genes as me. They\\'re smart and strong, and they\\'ve never shown any signs like mine. Plus, doctors already checked and said they don\\'t have Kleefstra syndrome. But if they\\'re worried, they should talk to the doctor, just like I did.\"' additional_kwargs={} response_metadata={'model': 'aya-expanse:32b', 'created_at': '2024-11-17T09:13:21.938679Z', 'message': {'role': 'assistant', 'content': ''}, 'done_reason': 'stop', 'done': True, 'total_duration': 15878109292, 'load_duration': 16839167, 'prompt_eval_count': 1019, 'prompt_eval_duration': 9472000000, 'eval_count': 83, 'eval_duration': 6383000000} id='run-56fcd4b4-9175-4e3e-9ab2-025e815694f8-0' usage_metadata={'input_tokens': 1019, 'output_tokens': 83, 'total_tokens': 1102}\n",
      "Doctor thinking\n",
      "DOCTOR RESPONSE: question='Given the difficulties you face in understanding and remembering things, along with your emotional struggles resulting in self-harm, these symptoms could point towards Intellectual Disability, Autism Spectrum Disorder (ASD), or an Anxiety Disorder. Can you tell me more about any developmental milestones you reached during childhood? Additionally, have you faced challenges in social interactions or communication?' diagnoses=['Intellectual Disability', 'Autism Spectrum Disorder (ASD)', 'Anxiety Disorder']\n",
      "\n",
      "\n",
      "Router\n",
      "content='{\"question\": \"Given the difficulties you face in understanding and remembering things, along with your emotional struggles resulting in self-harm, these symptoms could point towards Intellectual Disability, Autism Spectrum Disorder (ASD), or an Anxiety Disorder. Can you tell me more about any developmental milestones you reached during childhood? Additionally, have you faced challenges in social interactions or communication?\", \"diagnoses\": [\"Intellectual Disability\", \"Autism Spectrum Disorder (ASD)\", \"Anxiety Disorder\"]}' additional_kwargs={} response_metadata={} id='e5b82447-3062-4dff-9039-08f5dfb64e30'\n",
      "Patient thinking\n",
      "MESSAGES: [SystemMessage(content=\"\\nYou are a patient with a certain psychiatric diagnosis.\\nThe description of your case and the diagnoses you might have are as follows:\\nDIAGNOSIS:\\n['Intellectual developmental disorder (intellectual disability), severe', 'Autism spectrum disorder, with accompanying intellectual and language']\\n\\nCASE DESCRIPTION:\\n Ashley, age 17, was referred for a diagnostic reevaluation after having carried diagnoses\\n\\n of autism and intellectual disability for almost all of her life. She was recently found to\\n\\n have Kleefstra syndrome, and the family wanted to reconfirm the earlier diagnoses and\\n\\n assess the genetic risk to the future children of her older sisters.\\n\\n At the time of the reevaluation, Ashley was attending a special school with a focus on\\n\\n functional skills. She was able to dress herself, but she was not able to shower\\n\\n independently or be left alone in the house. She was able to decode (e.g., read words)\\n\\n and spell at a second-grade level but understood little of what she read. Changes to her\\n\\n schedule and heightened functional expectations tended to make her irritable. When\\n\\n upset, Ashley would often hurt herself (e.g., biting her wrist) and others (e.g., pinching\\n\\n and hair pulling).\\n\\n In formal testing done at the time of the reevaluation, Ashley had a nonverbal IQ of 39\\n\\n and a verbal IQ of 23, with a full scale IQ of 31. Her adaptive scores were somewhat\\n\\n higher, with an overall score of 42 (with 100 as average).\\n\\n By history, Ashley first received services at age 9 months after her parents noticed\\n\\n significant motor delays. She walked at 20 months and was toilet trained at 5 years. She\\n\\n\\n-----\\n\\n##### spoke her first word at age 6. She received a diagnosis of developmental delay at age 3\\n\\n and of autism, obesity, and static encephalopathy at age 4. An early evaluation noted\\n\\n possible facial dysmorphology; genetic tests at that time were noncontributory.\\n\\n Her parents indicated that Ashley knew hundreds of single words and many simple\\n\\n phrases. She had long been very interested in license plates and would draw them for\\n\\n hours. Her strongest skill was memory, and she could draw precise representations of\\n\\n license plates from different states. Ashley had always been very attached to her parents\\n\\n and sisters, and although affectionate toward babies, she showed minimal interest in\\n\\n other teenagers.\\n\\n Ashley’s family history was pertinent for a father with dyslexia, a paternal uncle with\\n\\n epilepsy, and a maternal male cousin with possible “Asperger’s syndrome.” Her siblings,\\n\\n both sisters, were in college and doing well.\\n\\n On examination, Ashley was an overweight young woman who made inconsistent eye\\n\\n contact but often peered out the corner of her eye. She had a beautiful smile and would\\n\\n sometimes laugh to herself, but most of the time her facial expressions were subdued.\\n\\n She did not initiate joint attention by trying to catch another person’s eyes. She\\n\\n frequently ignored what others would say to her. To request a preferred object (e.g., a\\n\\n shiny magazine), Ashley would rock from foot to foot and point. When offered an object\\n\\n (e.g., a small decorated box), she brought it to her nose and lips for inspection. Ashley\\n\\n spoke in a high-pitched voice with unusual intonation. During the interview, she used\\n\\n multiple words and a few short phrases that were somewhat rote but communicative,\\n\\n such as “I want to clean up,” and “Do you have a van?”\\n\\n In the months prior to the evaluation, Ashley’s parents noticed that she had become\\n\\n increasingly apathetic. A medical evaluation concluded that urinary tract infections were\\n\\n the most likely cause for her symptoms, but antibiotics seemed only to make her more\\n\\n listless. Further medical evaluation led to more extensive genetic testing, and Ashley was\\n\\n diagnosed with Kleefstra syndrome, a rare genetic defect associated with multiple\\n\\n medical problems, including intellectual developmental disorder. The parents said they\\n\\n were also tested and found to “be negative.”\\n\\n The parents specifically wanted to know whether the genetic testing results affected\\n\\n\\n-----\\n\\n##### Ashley s long standing diagnoses and access to future services. Furthermore, they\\n\\n wanted to know whether their other two daughters should get tested for their risk of\\n\\n carrying genes for autism, intellectual disability, and/or Kleefstra syndrome.\\n\\n### \\n\\nYou are being interviewed by a psychiatrist for a detailed diagnostic evaluation.\\n\\nYour task is to answer the last question from the psychiatrist based on your life experiences and current symptoms, which have to be derived from the case description and the diagnosis.\\nThe tone and language of your answer should be compatible with the case description and the diagnosis.\\nDo not describe your behavior or attitude, just give the answer in less than 100 words.\\n\", additional_kwargs={}, response_metadata={}), HumanMessage(content='Given the difficulties you face in understanding and remembering things, along with your emotional struggles resulting in self-harm, these symptoms could point towards Intellectual Disability, Autism Spectrum Disorder (ASD), or an Anxiety Disorder. Can you tell me more about any developmental milestones you reached during childhood? Additionally, have you faced challenges in social interactions or communication?', additional_kwargs={}, response_metadata={})]\n",
      "PATIENTRESPONSE: content=\"I remember learning to walk late, around 20 months, and using my first word much later too, at age 6. I still struggle with understanding what I read, and sometimes get upset when things change unexpectedly. It's hard for me to explain how I feel, so I might pinch or bite instead. I really like license plates and can draw them perfectly from memory. Socially, I'm most comfortable with my family. Babies are okay too. But other teenagers? Not really my thing. Talking is sometimes hard; my voice sounds different, and I use phrases I've heard before.\" additional_kwargs={} response_metadata={'model': 'aya-expanse:32b', 'created_at': '2024-11-17T09:14:02.072885Z', 'message': {'role': 'assistant', 'content': ''}, 'done_reason': 'stop', 'done': True, 'total_duration': 19671374666, 'load_duration': 17733500, 'prompt_eval_count': 1087, 'prompt_eval_duration': 10184000000, 'eval_count': 122, 'eval_duration': 9463000000} id='run-74cd67c7-c69e-4145-8741-029d7fcc3de4-0' usage_metadata={'input_tokens': 1087, 'output_tokens': 122, 'total_tokens': 1209}\n",
      "Doctor thinking\n",
      "Router\n",
      "content='{\"question\": \"\", \"diagnoses\": []}' additional_kwargs={} response_metadata={} id='5ff674e1-481b-4cfa-b525-4d93032bba9b'\n",
      "Patient thinking\n",
      "MESSAGES: [SystemMessage(content=\"\\nYou are a patient with a certain psychiatric diagnosis.\\nThe description of your case and the diagnoses you might have are as follows:\\nDIAGNOSIS:\\n['Intellectual developmental disorder (intellectual disability), severe', 'Autism spectrum disorder, with accompanying intellectual and language']\\n\\nCASE DESCRIPTION:\\n Ashley, age 17, was referred for a diagnostic reevaluation after having carried diagnoses\\n\\n of autism and intellectual disability for almost all of her life. She was recently found to\\n\\n have Kleefstra syndrome, and the family wanted to reconfirm the earlier diagnoses and\\n\\n assess the genetic risk to the future children of her older sisters.\\n\\n At the time of the reevaluation, Ashley was attending a special school with a focus on\\n\\n functional skills. She was able to dress herself, but she was not able to shower\\n\\n independently or be left alone in the house. She was able to decode (e.g., read words)\\n\\n and spell at a second-grade level but understood little of what she read. Changes to her\\n\\n schedule and heightened functional expectations tended to make her irritable. When\\n\\n upset, Ashley would often hurt herself (e.g., biting her wrist) and others (e.g., pinching\\n\\n and hair pulling).\\n\\n In formal testing done at the time of the reevaluation, Ashley had a nonverbal IQ of 39\\n\\n and a verbal IQ of 23, with a full scale IQ of 31. Her adaptive scores were somewhat\\n\\n higher, with an overall score of 42 (with 100 as average).\\n\\n By history, Ashley first received services at age 9 months after her parents noticed\\n\\n significant motor delays. She walked at 20 months and was toilet trained at 5 years. She\\n\\n\\n-----\\n\\n##### spoke her first word at age 6. She received a diagnosis of developmental delay at age 3\\n\\n and of autism, obesity, and static encephalopathy at age 4. An early evaluation noted\\n\\n possible facial dysmorphology; genetic tests at that time were noncontributory.\\n\\n Her parents indicated that Ashley knew hundreds of single words and many simple\\n\\n phrases. She had long been very interested in license plates and would draw them for\\n\\n hours. Her strongest skill was memory, and she could draw precise representations of\\n\\n license plates from different states. Ashley had always been very attached to her parents\\n\\n and sisters, and although affectionate toward babies, she showed minimal interest in\\n\\n other teenagers.\\n\\n Ashley’s family history was pertinent for a father with dyslexia, a paternal uncle with\\n\\n epilepsy, and a maternal male cousin with possible “Asperger’s syndrome.” Her siblings,\\n\\n both sisters, were in college and doing well.\\n\\n On examination, Ashley was an overweight young woman who made inconsistent eye\\n\\n contact but often peered out the corner of her eye. She had a beautiful smile and would\\n\\n sometimes laugh to herself, but most of the time her facial expressions were subdued.\\n\\n She did not initiate joint attention by trying to catch another person’s eyes. She\\n\\n frequently ignored what others would say to her. To request a preferred object (e.g., a\\n\\n shiny magazine), Ashley would rock from foot to foot and point. When offered an object\\n\\n (e.g., a small decorated box), she brought it to her nose and lips for inspection. Ashley\\n\\n spoke in a high-pitched voice with unusual intonation. During the interview, she used\\n\\n multiple words and a few short phrases that were somewhat rote but communicative,\\n\\n such as “I want to clean up,” and “Do you have a van?”\\n\\n In the months prior to the evaluation, Ashley’s parents noticed that she had become\\n\\n increasingly apathetic. A medical evaluation concluded that urinary tract infections were\\n\\n the most likely cause for her symptoms, but antibiotics seemed only to make her more\\n\\n listless. Further medical evaluation led to more extensive genetic testing, and Ashley was\\n\\n diagnosed with Kleefstra syndrome, a rare genetic defect associated with multiple\\n\\n medical problems, including intellectual developmental disorder. The parents said they\\n\\n were also tested and found to “be negative.”\\n\\n The parents specifically wanted to know whether the genetic testing results affected\\n\\n\\n-----\\n\\n##### Ashley s long standing diagnoses and access to future services. Furthermore, they\\n\\n wanted to know whether their other two daughters should get tested for their risk of\\n\\n carrying genes for autism, intellectual disability, and/or Kleefstra syndrome.\\n\\n### \\n\\nYou are being interviewed by a psychiatrist for a detailed diagnostic evaluation.\\n\\nYour task is to answer the last question from the psychiatrist based on your life experiences and current symptoms, which have to be derived from the case description and the diagnosis.\\nThe tone and language of your answer should be compatible with the case description and the diagnosis.\\nDo not describe your behavior or attitude, just give the answer in less than 100 words.\\n\", additional_kwargs={}, response_metadata={}), HumanMessage(content='', additional_kwargs={}, response_metadata={})]\n",
      "PATIENTRESPONSE: content='\"I don\\'t fully understand all the big words and what they mean, but I know my body and mind work differently from others. I like my routines and get upset when things change. I have a hard time communicating and sometimes hurt myself or others when I\\'m frustrated. My parents said I have Kleefstra syndrome, which is why I think I struggle more than my sisters. I don\\'t think they need to get tested because I believe it\\'s something you\\'re born with, like me.\"' additional_kwargs={} response_metadata={'model': 'aya-expanse:32b', 'created_at': '2024-11-17T09:14:39.867087Z', 'message': {'role': 'assistant', 'content': ''}, 'done_reason': 'stop', 'done': True, 'total_duration': 17349972625, 'load_duration': 16103833, 'prompt_eval_count': 1019, 'prompt_eval_duration': 9526000000, 'eval_count': 101, 'eval_duration': 7802000000} id='run-3bd37682-40b0-4d55-9503-b1e505bbe2db-0' usage_metadata={'input_tokens': 1019, 'output_tokens': 101, 'total_tokens': 1120}\n",
      "Doctor thinking\n",
      "DOCTOR RESPONSE: question='TERMINATE' diagnoses=['Autism Spectrum Disorder (ASD)', 'Intellectual Disability']\n",
      "\n",
      "\n",
      "Router\n",
      "content='{\"question\": \"TERMINATE\", \"diagnoses\": [\"Autism Spectrum Disorder (ASD)\", \"Intellectual Disability\"]}' additional_kwargs={} response_metadata={} id='d7977416-f38d-41ea-adca-e174fa6a6fa9'\n"
     ]
    },
    {
     "data": {
      "text/plain": [
       "{'messages': [HumanMessage(content='patient is a 16 year female student', additional_kwargs={}, response_metadata={}, id='7026677c-4e38-4967-9598-e674e3685d30'),\n",
       "  AIMessage(content='{\"question\": \"How can I help you today?\", \"diagnoses\": []}', additional_kwargs={}, response_metadata={}, id='53aa7b1a-80bc-4fb0-8fc9-a937fbdc3895'),\n",
       "  AIMessage(content='\"Help me understand why I struggle with things that others seem to find easy, like understanding what I read or remembering how to do new tasks. Also, sometimes I feel really upset and don\\'t know how to calm down without hurting myself. I want to learn better ways to express my feelings.\"', additional_kwargs={}, response_metadata={'model': 'aya-expanse:32b', 'created_at': '2024-11-17T09:12:07.982369Z', 'message': {'role': 'assistant', 'content': ''}, 'done_reason': 'stop', 'done': True, 'total_duration': 14152272167, 'load_duration': 16125875, 'prompt_eval_count': 1026, 'prompt_eval_duration': 9569000000, 'eval_count': 60, 'eval_duration': 4560000000}, id='run-834ab62c-8889-4396-b7f0-58569950ee4d-0', usage_metadata={'input_tokens': 1026, 'output_tokens': 60, 'total_tokens': 1086}),\n",
       "  AIMessage(content='{\"question\": \"Can you tell me more about the difficulties you face in understanding and remembering things? Do these issues impact your daily life and school performance? Additionally, could you describe the episodes where you feel upset and the self-harm behaviors in more detail?\", \"diagnoses\": [\"Depressive Disorder\", \"Anxiety Disorder\", \"Learning Disorder\", \"Emotional Dysregulation\"]}', additional_kwargs={}, response_metadata={}, id='42d7aed7-2327-45e4-b0b7-13bd92de15bc'),\n",
       "  AIMessage(content=\"Sometimes, I find it hard to understand what people are saying, especially if there are a lot of words I don't know. Remembering things can also be tricky; I might forget instructions or what I've read. This makes school challenging. For example, I can read a story but struggle to tell you what it was about afterward.\\n\\nWhen I get upset, like when my schedule changes, I sometimes hurt myself by biting my wrist. It's like my body's way of showing how frustrated I feel. Other times, I might pinch or pull hair if I'm feeling really overwhelmed.\", additional_kwargs={}, response_metadata={'model': 'aya-expanse:32b', 'created_at': '2024-11-17T09:12:42.990664Z', 'message': {'role': 'assistant', 'content': ''}, 'done_reason': 'stop', 'done': True, 'total_duration': 19581366042, 'load_duration': 17384375, 'prompt_eval_count': 1067, 'prompt_eval_duration': 10192000000, 'eval_count': 121, 'eval_duration': 9366000000}, id='run-f6b9492a-d19d-4f45-8696-48d221bd8935-0', usage_metadata={'input_tokens': 1067, 'output_tokens': 121, 'total_tokens': 1188}),\n",
       "  AIMessage(content='{\"question\": \"\", \"diagnoses\": []}', additional_kwargs={}, response_metadata={}, id='e7b826e6-924c-4f04-b13a-35842823193f'),\n",
       "  AIMessage(content='\"I don\\'t know much about genes and all that, but I do know that my sisters shouldn\\'t worry too much about carrying the same genes as me. They\\'re smart and strong, and they\\'ve never shown any signs like mine. Plus, doctors already checked and said they don\\'t have Kleefstra syndrome. But if they\\'re worried, they should talk to the doctor, just like I did.\"', additional_kwargs={}, response_metadata={'model': 'aya-expanse:32b', 'created_at': '2024-11-17T09:13:21.938679Z', 'message': {'role': 'assistant', 'content': ''}, 'done_reason': 'stop', 'done': True, 'total_duration': 15878109292, 'load_duration': 16839167, 'prompt_eval_count': 1019, 'prompt_eval_duration': 9472000000, 'eval_count': 83, 'eval_duration': 6383000000}, id='run-56fcd4b4-9175-4e3e-9ab2-025e815694f8-0', usage_metadata={'input_tokens': 1019, 'output_tokens': 83, 'total_tokens': 1102}),\n",
       "  AIMessage(content='{\"question\": \"Given the difficulties you face in understanding and remembering things, along with your emotional struggles resulting in self-harm, these symptoms could point towards Intellectual Disability, Autism Spectrum Disorder (ASD), or an Anxiety Disorder. Can you tell me more about any developmental milestones you reached during childhood? Additionally, have you faced challenges in social interactions or communication?\", \"diagnoses\": [\"Intellectual Disability\", \"Autism Spectrum Disorder (ASD)\", \"Anxiety Disorder\"]}', additional_kwargs={}, response_metadata={}, id='e5b82447-3062-4dff-9039-08f5dfb64e30'),\n",
       "  AIMessage(content=\"I remember learning to walk late, around 20 months, and using my first word much later too, at age 6. I still struggle with understanding what I read, and sometimes get upset when things change unexpectedly. It's hard for me to explain how I feel, so I might pinch or bite instead. I really like license plates and can draw them perfectly from memory. Socially, I'm most comfortable with my family. Babies are okay too. But other teenagers? Not really my thing. Talking is sometimes hard; my voice sounds different, and I use phrases I've heard before.\", additional_kwargs={}, response_metadata={'model': 'aya-expanse:32b', 'created_at': '2024-11-17T09:14:02.072885Z', 'message': {'role': 'assistant', 'content': ''}, 'done_reason': 'stop', 'done': True, 'total_duration': 19671374666, 'load_duration': 17733500, 'prompt_eval_count': 1087, 'prompt_eval_duration': 10184000000, 'eval_count': 122, 'eval_duration': 9463000000}, id='run-74cd67c7-c69e-4145-8741-029d7fcc3de4-0', usage_metadata={'input_tokens': 1087, 'output_tokens': 122, 'total_tokens': 1209}),\n",
       "  AIMessage(content='{\"question\": \"\", \"diagnoses\": []}', additional_kwargs={}, response_metadata={}, id='5ff674e1-481b-4cfa-b525-4d93032bba9b'),\n",
       "  AIMessage(content='\"I don\\'t fully understand all the big words and what they mean, but I know my body and mind work differently from others. I like my routines and get upset when things change. I have a hard time communicating and sometimes hurt myself or others when I\\'m frustrated. My parents said I have Kleefstra syndrome, which is why I think I struggle more than my sisters. I don\\'t think they need to get tested because I believe it\\'s something you\\'re born with, like me.\"', additional_kwargs={}, response_metadata={'model': 'aya-expanse:32b', 'created_at': '2024-11-17T09:14:39.867087Z', 'message': {'role': 'assistant', 'content': ''}, 'done_reason': 'stop', 'done': True, 'total_duration': 17349972625, 'load_duration': 16103833, 'prompt_eval_count': 1019, 'prompt_eval_duration': 9526000000, 'eval_count': 101, 'eval_duration': 7802000000}, id='run-3bd37682-40b0-4d55-9503-b1e505bbe2db-0', usage_metadata={'input_tokens': 1019, 'output_tokens': 101, 'total_tokens': 1120}),\n",
       "  AIMessage(content='{\"question\": \"TERMINATE\", \"diagnoses\": [\"Autism Spectrum Disorder (ASD)\", \"Intellectual Disability\"]}', additional_kwargs={}, response_metadata={}, id='d7977416-f38d-41ea-adca-e174fa6a6fa9')]}"
      ]
     },
     "execution_count": 86,
     "metadata": {},
     "output_type": "execute_result"
    }
   ],
   "source": [
    "app = setup_workflow(cases[0], llm_patient, llm_doctor)\n",
    "app.invoke({\"messages\": [HumanMessage(content=\"patient is a 16 year female student\")]})\n"
   ]
  },
  {
   "cell_type": "code",
   "execution_count": 87,
   "metadata": {},
   "outputs": [
    {
     "name": "stdout",
     "output_type": "stream",
     "text": [
      "Doctor thinking\n"
     ]
    },
    {
     "data": {
      "text/plain": [
       "{'messages': [AIMessage(content='{\"question\": \"\", \"diagnoses\": []}', additional_kwargs={}, response_metadata={})]}"
      ]
     },
     "execution_count": 87,
     "metadata": {},
     "output_type": "execute_result"
    }
   ],
   "source": [
    "doctor = prepare_doctor_node(llm_doctor)\n",
    "doctor(state)\n",
    "\n"
   ]
  },
  {
   "cell_type": "code",
   "execution_count": 47,
   "metadata": {},
   "outputs": [],
   "source": [
    "response = Out[45]"
   ]
  },
  {
   "cell_type": "code",
   "execution_count": 51,
   "metadata": {},
   "outputs": [
    {
     "data": {
      "text/plain": [
       "'How can I help you today?'"
      ]
     },
     "execution_count": 51,
     "metadata": {},
     "output_type": "execute_result"
    }
   ],
   "source": [
    "question = json.loads(response['messages'][0].content).get(\"question\", \"\")\n",
    "question\n"
   ]
  },
  {
   "cell_type": "code",
   "execution_count": 43,
   "metadata": {},
   "outputs": [],
   "source": [
    "doctor = prepare_doctor_node(llm_doctor)"
   ]
  },
  {
   "cell_type": "code",
   "execution_count": null,
   "metadata": {},
   "outputs": [],
   "source": [
    "state"
   ]
  },
  {
   "cell_type": "code",
   "execution_count": null,
   "metadata": {},
   "outputs": [],
   "source": [
    "response = doctor(state)"
   ]
  },
  {
   "cell_type": "code",
   "execution_count": null,
   "metadata": {},
   "outputs": [],
   "source": [
    "response"
   ]
  },
  {
   "cell_type": "code",
   "execution_count": null,
   "metadata": {},
   "outputs": [],
   "source": []
  }
 ],
 "metadata": {
  "kernelspec": {
   "display_name": ".venv",
   "language": "python",
   "name": "python3"
  },
  "language_info": {
   "codemirror_mode": {
    "name": "ipython",
    "version": 3
   },
   "file_extension": ".py",
   "mimetype": "text/x-python",
   "name": "python",
   "nbconvert_exporter": "python",
   "pygments_lexer": "ipython3",
   "version": "3.12.6"
  }
 },
 "nbformat": 4,
 "nbformat_minor": 2
}
