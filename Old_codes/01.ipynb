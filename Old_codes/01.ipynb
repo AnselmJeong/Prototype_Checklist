{
 "cells": [
  {
   "cell_type": "code",
   "execution_count": 1,
   "metadata": {},
   "outputs": [],
   "source": [
    "import os\n",
    "import autogen\n",
    "from autogen import UserProxyAgent, AssistantAgent\n",
    "from autogen.agentchat.contrib.gpt_assistant_agent import GPTAssistantAgent\n",
    "from langchain.chat_models import ChatOpenAI\n",
    "from autogen import config_list_from_json\n",
    "from dotenv import load_dotenv"
   ]
  },
  {
   "cell_type": "code",
   "execution_count": 2,
   "metadata": {},
   "outputs": [],
   "source": [
    "load_dotenv()\n",
    "brwoserless_api_key = os.getenv(\"BROWSERLESS_API_KEY\")\n",
    "serp_api_key = os.getenv(\"SERP_API_KEY\")\n",
    "config_list = config_list_from_json(\"OAI_CONFIG_LIST\")"
   ]
  },
  {
   "cell_type": "markdown",
   "metadata": {},
   "source": [
    "## UserProxyAgent & AssistantAgent"
   ]
  },
  {
   "cell_type": "code",
   "execution_count": 13,
   "metadata": {},
   "outputs": [],
   "source": [
    "llm_config = {\n",
    "    \"seed\": 44,\n",
    "    \"config_list\": config_list,\n",
    "    \"temperature\": 0,\n",
    "}"
   ]
  },
  {
   "cell_type": "markdown",
   "metadata": {},
   "source": [
    "### AssistantAgent"
   ]
  },
  {
   "cell_type": "code",
   "execution_count": 14,
   "metadata": {},
   "outputs": [],
   "source": [
    "assistant = AssistantAgent(name=\"assistant\", llm_config=llm_config)\n",
    "\n",
    "user = UserProxyAgent(\n",
    "    name=\"user_proxy\",\n",
    "    human_input_mode=\"NEVER\",\n",
    "    is_termination_msg=lambda x: \"TERMINATE\" in x.get(\"content\", \"\"),\n",
    "    max_consecutive_auto_reply=10,\n",
    "    code_execution_config={\"work_dir\": \"coding\", \"use_docker\": False},\n",
    "    llm_config=llm_config,\n",
    "    system_message=\"Reply TERMINATE if the task has been solved. Otherwise, reply CONTINUE or the reason why the task is not satisfactory\",\n",
    ")"
   ]
  },
  {
   "cell_type": "code",
   "execution_count": 15,
   "metadata": {},
   "outputs": [],
   "source": [
    "task = \"\"\" \n",
    "Suggest evidence based methods for diagnosing adult Attention Deficit Hyperactive Disorder\n",
    "\"\"\""
   ]
  },
  {
   "cell_type": "code",
   "execution_count": 16,
   "metadata": {},
   "outputs": [
    {
     "name": "stdout",
     "output_type": "stream",
     "text": [
      "\u001b[33muser_proxy\u001b[0m (to assistant):\n",
      "\n",
      " \n",
      "Suggest evidence based methods for diagnosing adult Attention Deficit Hyperactive Disorder\n",
      "\n",
      "\n",
      "--------------------------------------------------------------------------------\n",
      "\u001b[33massistant\u001b[0m (to user_proxy):\n",
      "\n",
      "Diagnosing adult Attention Deficit Hyperactivity Disorder (ADHD) can be challenging as symptoms may often overlap with other conditions. However, there are several evidence-based methods that are commonly used:\n",
      "\n",
      "1. **Clinical Interviews**: This is the most common method for diagnosing ADHD in adults. It involves a detailed discussion about the individual's childhood behavior, current symptoms, and the impact of these symptoms on their daily life. The interview can be structured or semi-structured based on the Diagnostic and Statistical Manual of Mental Disorders (DSM-5) criteria.\n",
      "\n",
      "2. **Self-Report Scales**: These are questionnaires that ask about symptoms of ADHD. Examples include the Adult ADHD Self-Report Scale (ASRS) and the Conners' Adult ADHD Rating Scales (CAARS). These scales can help identify the presence and severity of symptoms.\n",
      "\n",
      "3. **Observer Ratings**: These are reports from people who know the individual well, such as a spouse, parent, or close friend. They can provide additional information about the individual's behavior in different settings.\n",
      "\n",
      "4. **Neuropsychological Testing**: While not typically used alone for diagnosis, these tests can help identify cognitive impairments that are often associated with ADHD, such as problems with working memory, attention, and executive functioning.\n",
      "\n",
      "5. **Physical Examination and Medical History**: This can help rule out other conditions that might be causing symptoms similar to ADHD, such as sleep disorders, thyroid problems, or substance abuse issues.\n",
      "\n",
      "Remember, a comprehensive evaluation is necessary to accurately diagnose ADHD in adults. It's important to consult with a healthcare professional who has expertise in ADHD for a proper diagnosis. \n",
      "\n",
      "TERMINATE\n",
      "\n",
      "--------------------------------------------------------------------------------\n"
     ]
    }
   ],
   "source": [
    "user.initiate_chat(assistant, message=task)"
   ]
  },
  {
   "cell_type": "code",
   "execution_count": null,
   "metadata": {},
   "outputs": [],
   "source": [
    "task2 = (\n",
    "    \"analyzer the above results to list the application domains studied by these papers\"\n",
    ")\n",
    "user.initiate_chat(assistant, message=task2, clear_history=False)"
   ]
  },
  {
   "cell_type": "code",
   "execution_count": null,
   "metadata": {},
   "outputs": [],
   "source": []
  }
 ],
 "metadata": {
  "kernelspec": {
   "display_name": "llm",
   "language": "python",
   "name": "llm"
  },
  "language_info": {
   "codemirror_mode": {
    "name": "ipython",
    "version": 3
   },
   "file_extension": ".py",
   "mimetype": "text/x-python",
   "name": "python",
   "nbconvert_exporter": "python",
   "pygments_lexer": "ipython3",
   "version": "3.11.6"
  }
 },
 "nbformat": 4,
 "nbformat_minor": 2
}
