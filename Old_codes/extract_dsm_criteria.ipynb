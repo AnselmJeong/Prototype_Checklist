{
 "cells": [
  {
   "cell_type": "code",
   "execution_count": 1,
   "metadata": {},
   "outputs": [],
   "source": [
    "import pandas as pd\n",
    "from unstructured.partition.pdf import partition_pdf\n",
    "import re, json"
   ]
  },
  {
   "cell_type": "code",
   "execution_count": 2,
   "metadata": {},
   "outputs": [],
   "source": [
    "DSM_code = pd.read_csv(\"./DSM_codes.txt\", sep=\"\\t\")"
   ]
  },
  {
   "cell_type": "code",
   "execution_count": 3,
   "metadata": {},
   "outputs": [
    {
     "data": {
      "text/html": [
       "<div>\n",
       "<style scoped>\n",
       "    .dataframe tbody tr th:only-of-type {\n",
       "        vertical-align: middle;\n",
       "    }\n",
       "\n",
       "    .dataframe tbody tr th {\n",
       "        vertical-align: top;\n",
       "    }\n",
       "\n",
       "    .dataframe thead th {\n",
       "        text-align: right;\n",
       "    }\n",
       "</style>\n",
       "<table border=\"1\" class=\"dataframe\">\n",
       "  <thead>\n",
       "    <tr style=\"text-align: right;\">\n",
       "      <th></th>\n",
       "      <th>Disorder, condition, or problem</th>\n",
       "      <th>ICD-9–CM</th>\n",
       "      <th>ICD-10–CM</th>\n",
       "    </tr>\n",
       "  </thead>\n",
       "  <tbody>\n",
       "    <tr>\n",
       "      <th>0</th>\n",
       "      <td>Academic or educational problem</td>\n",
       "      <td>V62.3</td>\n",
       "      <td>Z55.9</td>\n",
       "    </tr>\n",
       "    <tr>\n",
       "      <th>1</th>\n",
       "      <td>Acculturation difficulty</td>\n",
       "      <td>V62.4</td>\n",
       "      <td>Z60.3</td>\n",
       "    </tr>\n",
       "    <tr>\n",
       "      <th>2</th>\n",
       "      <td>Acute stress disorder</td>\n",
       "      <td>308.3</td>\n",
       "      <td>F43.0</td>\n",
       "    </tr>\n",
       "    <tr>\n",
       "      <th>3</th>\n",
       "      <td>Adjustment disorder</td>\n",
       "      <td>NaN</td>\n",
       "      <td>NaN</td>\n",
       "    </tr>\n",
       "    <tr>\n",
       "      <th>4</th>\n",
       "      <td>Adjustment disorder, Unspecified</td>\n",
       "      <td>309.9</td>\n",
       "      <td>F43.20</td>\n",
       "    </tr>\n",
       "  </tbody>\n",
       "</table>\n",
       "</div>"
      ],
      "text/plain": [
       "    Disorder, condition, or problem ICD-9–CM ICD-10–CM\n",
       "0   Academic or educational problem    V62.3     Z55.9\n",
       "1          Acculturation difficulty    V62.4     Z60.3\n",
       "2             Acute stress disorder    308.3     F43.0\n",
       "3               Adjustment disorder      NaN       NaN\n",
       "4  Adjustment disorder, Unspecified    309.9    F43.20"
      ]
     },
     "execution_count": 3,
     "metadata": {},
     "output_type": "execute_result"
    }
   ],
   "source": [
    "DSM_code.head()"
   ]
  },
  {
   "cell_type": "code",
   "execution_count": 6,
   "metadata": {},
   "outputs": [],
   "source": [
    "DSM_code.to_csv(\"DSM_codes.csv\", index=False)"
   ]
  },
  {
   "cell_type": "code",
   "execution_count": 2,
   "metadata": {},
   "outputs": [
    {
     "name": "stderr",
     "output_type": "stream",
     "text": [
      "[nltk_data] Downloading package punkt to /Users/anselm/nltk_data...\n",
      "[nltk_data]   Unzipping tokenizers/punkt.zip.\n",
      "[nltk_data] Downloading package averaged_perceptron_tagger to\n",
      "[nltk_data]     /Users/anselm/nltk_data...\n",
      "[nltk_data]   Unzipping taggers/averaged_perceptron_tagger.zip.\n"
     ]
    },
    {
     "data": {
      "application/vnd.jupyter.widget-view+json": {
       "model_id": "9326d9ded6744eb1961c91f279b3af32",
       "version_major": 2,
       "version_minor": 0
      },
      "text/plain": [
       "yolox_l0.05.onnx:   0%|          | 0.00/217M [00:00<?, ?B/s]"
      ]
     },
     "metadata": {},
     "output_type": "display_data"
    },
    {
     "data": {
      "application/vnd.jupyter.widget-view+json": {
       "model_id": "0c19cff2a57845b8999fdc7b6b51a40e",
       "version_major": 2,
       "version_minor": 0
      },
      "text/plain": [
       "config.json:   0%|          | 0.00/1.47k [00:00<?, ?B/s]"
      ]
     },
     "metadata": {},
     "output_type": "display_data"
    },
    {
     "data": {
      "application/vnd.jupyter.widget-view+json": {
       "model_id": "69b365109e324913a24bffae6bff056a",
       "version_major": 2,
       "version_minor": 0
      },
      "text/plain": [
       "model.safetensors:   0%|          | 0.00/115M [00:00<?, ?B/s]"
      ]
     },
     "metadata": {},
     "output_type": "display_data"
    },
    {
     "data": {
      "application/vnd.jupyter.widget-view+json": {
       "model_id": "1ee9265d2d504190b140d8aa2215be08",
       "version_major": 2,
       "version_minor": 0
      },
      "text/plain": [
       "model.safetensors:   0%|          | 0.00/46.8M [00:00<?, ?B/s]"
      ]
     },
     "metadata": {},
     "output_type": "display_data"
    },
    {
     "name": "stderr",
     "output_type": "stream",
     "text": [
      "Some weights of the model checkpoint at microsoft/table-transformer-structure-recognition were not used when initializing TableTransformerForObjectDetection: ['model.backbone.conv_encoder.model.layer2.0.downsample.1.num_batches_tracked', 'model.backbone.conv_encoder.model.layer3.0.downsample.1.num_batches_tracked', 'model.backbone.conv_encoder.model.layer4.0.downsample.1.num_batches_tracked']\n",
      "- This IS expected if you are initializing TableTransformerForObjectDetection from the checkpoint of a model trained on another task or with another architecture (e.g. initializing a BertForSequenceClassification model from a BertForPreTraining model).\n",
      "- This IS NOT expected if you are initializing TableTransformerForObjectDetection from the checkpoint of a model that you expect to be exactly identical (initializing a BertForSequenceClassification model from a BertForSequenceClassification model).\n"
     ]
    }
   ],
   "source": [
    "filename = \"./sample.pdf\"\n",
    "\n",
    "elements = partition_pdf(filename=filename, infer_table_structure=True)\n",
    "tables = [el for el in elements if el.category == \"Table\"]\n",
    "\n",
    "# print(tables[0].text)\n",
    "# print(tables[0].metadata.text_as_html)"
   ]
  },
  {
   "cell_type": "code",
   "execution_count": 2,
   "metadata": {},
   "outputs": [],
   "source": [
    "def extract_dsm_criteria(filename):\n",
    "    elements = partition_pdf(filename=filename)\n",
    "    dsm_5 = dict()\n",
    "\n",
    "    for i, element in enumerate(elements):\n",
    "        if element.text == \"Diagnostic Criteria\":\n",
    "            # Get the next element\n",
    "            # print(i)\n",
    "            prev_element = elements[i - 1]\n",
    "\n",
    "            # Print the text\n",
    "            disease = prev_element.text\n",
    "\n",
    "            j = i + 1\n",
    "            criteria = []\n",
    "            code = None\n",
    "            while (\"Subtypes\" not in elements[j].text) and (\"Diagnostic Features\" not in elements[j].text):\n",
    "                if re.match(r\"^F\\d+.?\\d+$\", elements[j].text):\n",
    "                    code = elements[j].text\n",
    "                elif not re.match(r\"^\\d+$\", elements[j].text):\n",
    "                    criteria.append(elements[j].text)\n",
    "                j += 1\n",
    "            criteria_text = \"\\n\".join(criteria)\n",
    "            dsm_5[disease] = {\"code\": code, \"criteria\": criteria_text}\n",
    "\n",
    "    json.dump(dsm_5, open(\"dsm_5.json\", \"w\"))\n",
    "    return dsm_5"
   ]
  },
  {
   "cell_type": "code",
   "execution_count": 3,
   "metadata": {},
   "outputs": [],
   "source": [
    "dsm_5 = extract_dsm_criteria(\"./DSM-5-TR.pdf\")"
   ]
  },
  {
   "cell_type": "code",
   "execution_count": 4,
   "metadata": {},
   "outputs": [],
   "source": [
    "import json\n",
    "\n",
    "dsm_5 = json.load(open(\"./dsm_5.json\"))"
   ]
  },
  {
   "cell_type": "code",
   "execution_count": 5,
   "metadata": {},
   "outputs": [
    {
     "data": {
      "text/plain": [
       "158"
      ]
     },
     "execution_count": 5,
     "metadata": {},
     "output_type": "execute_result"
    }
   ],
   "source": [
    "len(dsm_5.keys())"
   ]
  },
  {
   "cell_type": "code",
   "execution_count": 20,
   "metadata": {},
   "outputs": [
    {
     "data": {
      "text/plain": [
       "{'code': None,\n",
       " 'criteria': 'Neurodevelopmental Disorders\\nSchizophrenia Spectrum and Other Psychotic Disorders\\nBipolar and Related Disorders\\nDepressive Disorders\\nAnxiety Disorders\\nObsessive-Compulsive and Related Disorders\\nTrauma- and Stressor-Related Disorders\\nDissociative Disorders\\nSomatic Symptom and Related Disorders\\nFeeding and Eating Disorders\\nElimination Disorders\\nSleep-Wake Disorders\\nSexual Dysfunctions\\nGender Dysphoria\\nDisruptive, Impulse-Control, and Conduct Disorders\\nSubstance-Related and Addictive Disorders\\nNeurocognitive Disorders\\nPersonality Disorders\\nParaphilic Disorders\\nOther Mental Disorders and Additional Codes\\nMedication-Induced Movement Disorders and Other Adverse Effects of Medication\\nOther Conditions That May Be a Focus of Clinical Attention\\nThis section contains the diagnostic criteria approved for routine clinical use along with ICD-10-CM diagnostic codes. For each mental disorder, the diagnostic criteria are followed by descriptive text to assist in diagnostic decision-making. Where needed, notes to facilitate the selection of the appropriate ICD-10-CM code as well as recording procedures are also provided.\\nSection II also includes two chapters of other conditions that are not mental disorders but may be encountered by clinicians. “Medication-Induced Movement Disorders and Other Adverse Effects of Medication” features conditions of frequent importance in the management by medication of mental disorders or other medical conditions and the differential diagnosis with mental disorders (e.g., an anxiety disorder vs. medication-induced acute akathisia). “Other Conditions That May Be a Focus of Clinical Attention” includes conditions and psychosocial or environmental problems that are not considered to be mental disorders but otherwise affect the diagnosis, course, prognosis, or treatment of an individual’s mental disorder.\\nThese three components—the criteria and their descriptive text, the medication- induced movement disorders and other adverse effects of medication, and the descriptions of other conditions that may be a focus of clinical attention—represent the key elements of the clinical diagnostic process and thus are presented together.\\nNeurodevelopmental Disorders\\nThe neurodevelopmental disorders are a group of conditions with onset in the developmental period. The disorders typically manifest early in development, often before the child enters school, and are characterized by developmental deficits or differences in brain processes that produce impairments of personal, social, academic, or occupational functioning. The range of developmental deficits or differences varies from very specific limitations of learning or control of executive functions to global impairments of social skills or intellectual ability. Once thought to be categorically defined, more recent dimensional approaches to measurement of the symptoms demonstrate a range of severity, often without a very clear boundary with typical development. Diagnosis of a disorder thus requires the presence of both symptoms and impaired function.\\nThe neurodevelopmental disorders frequently co-occur with one another; for example, individuals with autism spectrum disorder often have intellectual developmental disorder (intellectual disability), and many children with attention-deficit/hyperactivity disorder (ADHD) also have a specific learning disorder. The neurodevelopmental disorders also frequently co- occur with other mental and behavioral disorders with onset in childhood (e.g., communication disorders and autism spectrum disorder may be associated with anxiety disorders; ADHD with oppositional defiant disorder; some neurodevelopmental disorders, the clinical presentation includes behaviors that are more frequent or intense when compared with those of normal children of the same developmental age and gender, as well as deficits and delays in achieving expected milestones. For example, autism spectrum disorder is diagnosed only when the characteristic deficits of social communication are accompanied by excessively repetitive behaviors, restricted interests, and insistence on sameness.\\ntics with obsessive-compulsive disorder). For\\nIntellectual developmental disorder is characterized by deficits in general mental abilities, such as reasoning, problem solving, planning, abstract thinking, judgment, academic learning, and learning from experience. The deficits result in impairments of adaptive functioning, such that the individual fails to meet standards of personal independence and social responsibility in one or more aspects of daily life, including communication, social participation, academic or occupational functioning, and personal independence at home or in community settings. Global developmental delay, as its name implies, is diagnosed when an individual fails to meet expected developmental milestones in several areas of intellectual functioning. The diagnosis is used for individuals younger than 5 years who are unable to undergo systematic assessments of intellectual functioning, and thus the clinical severity level cannot be reliably assessed. Intellectual developmental disorder may result from an acquired insult during the developmental period from, for example, a severe head injury, in which case a neurocognitive disorder also may be diagnosed.\\nThe communication disorders include language disorder, speech sound disorder, social\\n(pragmatic) communication disorder, and childhood-onset fluency disorder (stuttering). The first three disorders are characterized by deficits in the development and use of language, speech, and social communication, respectively. Social communication disorder is characterized by deficits in both verbal and nonverbal communication skills that result in\\nsocial impairment and are not better explained by low abilities in structural language, intellectual developmental disorder, or autism spectrum disorder. Childhood-onset fluency disorder is characterized by disturbances of the normal fluency and motor production of speech, including repetitive sounds or syllables, prolongation of consonants or vowel sounds, broken words, blocking, or words produced with an excess of physical tension. Like other neurodevelopmental disorders, communication disorders begin early in life and may produce lifelong functional impairments.\\nAutism spectrum disorder is characterized by persistent deficits in social communication and social interaction across multiple contexts, including deficits in social reciprocity, nonverbal communicative behaviors used for social interaction, and skills in developing, maintaining, and understanding relationships. In addition to the social communication deficits, the diagnosis of autism spectrum disorder requires the presence of restricted, repetitive patterns of behavior, interests, or activities. Because symptoms change with development and may be masked by compensatory mechanisms, the diagnostic criteria may be met based on historical information, although the current presentation must cause significant impairment.\\nWithin the diagnosis of autism spectrum disorder, individual clinical characteristics are noted through the use of specifiers (with or without accompanying intellectual impairment; with or without accompanying structural language impairment; associated with a known genetic or other medical condition or environmental factor; associated with a neurodevelopmental, mental, or behavioral problem), as well as specifiers that describe the severity of autistic symptoms. These specifiers provide clinicians with an opportunity to individualize the diagnosis and communicate a richer clinical description of the affected individuals. For example, many individuals previously diagnosed with Asperger’s disorder would now receive a diagnosis of autism spectrum disorder without language or intellectual impairment.\\nADHD is a neurodevelopmental disorder defined by impairing levels of inattention, disorganization, and/or hyperactivity-impulsivity. Inattention and disorganization entail inability to stay on task, seeming not to listen, and losing materials necessary for tasks, at levels that are inconsistent with age or developmental level. Hyperactivity-impulsivity entails overactivity, fidgeting, inability to stay seated, intruding into other people’s activities, and inability to wait— symptoms that are excessive for age or developmental level. In childhood, ADHD frequently overlaps with disorders that are often considered to be “externalizing disorders,” such as oppositional defiant disorder and conduct disorder. ADHD often persists into adulthood, with resultant impairments of social, academic, and occupational functioning.\\nSpecific learning disorder, as the name implies, is diagnosed when there are specific deficits in an individual’s ability to perceive or process information for learning academic skills efficiently and accurately. This neurodevelopmental disorder first manifests during the years of formal schooling and is characterized by persistent and impairing difficulties with learning foundational academic skills in reading, writing, and/or math. The individual’s performance of\\nthe affected academic skills is well below average for age, or acceptable performance levels are achieved only with extraordinary effort. Specific learning disorder may occur in individuals identified as intellectually gifted and manifest only when the learning demands or assessment procedures (e.g., timed tests) pose barriers that cannot be overcome by their innate intelligence and compensatory strategies. For all individuals, specific learning disorder can produce lifelong impairments in activities dependent on the skills, including occupational performance.\\nThe neurodevelopmental motor disorders include developmental coordination disorder, stereotypic movement disorder, and tic disorders. Developmental coordination disorder is characterized by deficits in the acquisition and execution of coordinated motor skills and is manifested by clumsiness and slowness or inaccuracy of performance of\\nmotor skills that cause interference with activities of daily living. Stereotypic movement disorder is diagnosed when an individual has repetitive, seemingly driven, and apparently purposeless motor behaviors, such as hand flapping, body rocking, head banging, self-biting, or hitting. The movements interfere with social, academic, or other activities. If the behaviors cause self-injury, this should be specified as part of the diagnostic description. Tic disorders are characterized by the presence of motor or vocal tics, which are sudden, rapid, recurrent, nonrhythmic, stereotyped motor movements or vocalizations. The duration, presumed etiology, and clinical presentation define the specific tic disorder that is diagnosed: Tourette’s disorder, persistent (chronic) motor or vocal tic disorder, provisional tic disorder, other specified tic disorder, and unspecified tic disorder. Tourette’s disorder is diagnosed when the individual has multiple motor and vocal tics that have been present for at least 1 year and that have a waxing- waning symptom course.\\nThe use of specifiers for the neurodevelopmental disorder diagnoses enriches the clinical description of the individual’s clinical course and current symptomatology. These include the following: Severity specifiers are available for intellectual developmental disorder, autism spectrum disorder, ADHD, specific learning disorder, and stereotypic movement disorder. Specifiers indicative of current symptomatology are available for ADHD, specific learning disorder, and persistent motor or vocal tic disorder. Autism spectrum disorder and stereotypic movement disorder also include the specifier “associated with a known genetic or other medical condition or environmental factor.” This specifier gives clinicians an opportunity to document factors that may have played a role in the etiology of the disorder, as well as those that might affect the clinical course.\\nIntellectual Developmental Disorders\\nIntellectual Developmental Disorder (Intellectual Disability)\\nDiagnostic Criteria\\nIntellectual developmental disorder (intellectual disability) is a disorder with onset during the developmental period that includes both intellectual and adaptive functioning deficits in conceptual, social, and practical domains. The following three criteria must be met:\\nA. Deficits in intellectual functions, such as reasoning, problem solving, planning, abstract thinking, judgment, academic learning, and learning from experience, confirmed by both clinical assessment and individualized, standardized intelligence testing.\\nB. Deficits in adaptive functioning that result in failure to meet developmental and sociocultural standards for personal independence and social responsibility. Without ongoing support, the adaptive deficits limit functioning in one or more activities of daily life, such as communication, social participation, and independent living, across multiple environments, such as home, school, work, and community.\\nC. Onset of intellectual and adaptive deficits during the developmental period.\\nNote: The term intellectual developmental disorder is used to clarify its relationship with the WHO ICD-11 classification system, which uses the term Disorders of Intellectual Development. The equivalent term intellectual disability is placed in parentheses for continued use. The medical and research literature use both terms, while intellectual disability is the term in common use by educational and other professions, advocacy groups, and the lay public. In the United States, Public Law 111-256 (Rosa’s Law) changed all references to “mental retardation” in federal laws to “intellectual disability.” Specify current severity (see Table 1):\\nF70 Mild\\nF71 Moderate F72 Severe\\nF73 Profound\\nTABLE 1 Severity levels for intellectual developmental disorder (intellectual\\ndisability)\\nSeverity\\nlevel\\nConceptual domain\\nSocial domain\\nPractical domain\\nMild\\nFor preschool children, there may be Compared with typically developing The individual may function age-\\nModerate\\nSevere\\nno obvious conceptual differences. For school-age children and adults, there are difficulties in learning academic skills involving reading, writing, arithmetic, time, or money, with support needed in one or more areas to meet age-related expectations. In adults, abstract thinking, executive function (i.e., planning, strategizing, priority setting, and cognitive flexibility), and short-term memory, as well as functional use of academic skills (e.g., reading, money management), are impaired. There is a somewhat concrete approach to problems and solutions compared with age-mates.\\nAll through development, the\\nindividual’s conceptual skills lag markedly behind those of peers. For preschoolers, language and preacademic skills develop slowly. For school-age children, progress in reading, writing, mathematics, and understanding of time and money occurs slowly across the school years and is markedly limited compared with that of peers. For adults, academic skill development is typically at an elementary level, and support is required for all use of academic skills in work and personal life. Ongoing assistance on a daily basis is needed to complete conceptual tasks of day-to-day life, and others may take over these responsibilities fully for the individual.\\nAttainment of conceptual skills is\\nlimited. The individual generally has little understanding of written language or of concepts involving numbers, quantity, time, and\\nage-mates, the individual is immature in social interactions. For example, there may be difficulty in accurately perceiving peers’ social cues. Communication, conversation, and language are more concrete or immature than expected for age. There may be difficulties regulating emotion and behavior in age-appropriate fashion; these difficulties are noticed by peers in social situations. There is limited understanding of risk in social situations; social judgment is immature for age, and the person is at risk of being manipulated by others (gullibility).\\nThe individual shows marked\\ndifferences from peers in social and communicative behavior across development. Spoken language is typically a primary tool for social communication but is much less complex than that of peers. Capacity for relationships is evident in ties to family and friends, and the individual may have successful friendships across life and sometimes romantic relations in adulthood. However, individuals may not perceive or interpret social cues accurately. Social judgment and decision- making abilities are limited, and caretakers must assist the person with life decisions. Friendships with typically developing peers are often affected by communication or social limitations. Significant social and communicative support is needed in work settings for success.\\nSpoken language is quite limited in\\nterms of vocabulary and grammar. Speech may be single words or phrases and may be supplemented through augmentative means.\\nappropriately in personal care. Individuals need some support with complex daily living tasks in comparison to peers. In adulthood, supports typically involve grocery shopping, transportation, home and child-care organizing, nutritious food preparation, and banking and money management. Recreational skills resemble those of age-mates, although judgment related to well-being and organization around recreation requires support. In adulthood, competitive employment is often seen in jobs that do not emphasize conceptual skills. Individuals generally need support to make health care decisions and legal decisions, and to learn to perform a skilled vocation competently. Support is typically needed to raise a family.\\nThe individual can care for personal needs involving eating, dressing, elimination, and hygiene as an adult, although an extended period of teaching and time is needed for the individual to become independent in these areas, and reminders may be needed. Similarly, participation in all household tasks can be achieved by adulthood, although an extended period of teaching is needed, and ongoing supports will typically occur for adult-level performance. Independent employment in jobs that require limited conceptual and communication skills can be achieved, but considerable support from coworkers, supervisors, and others is needed to manage social expectations, job complexities, and ancillary responsibilities such as scheduling, transportation, health benefits, and money management. A variety of recreational skills can be developed. These typically require additional supports and learning opportunities over an extended period of time. Maladaptive behavior is present in a significant minority and causes social problems.\\nThe individual requires support for all activities of daily living, including meals, dressing, bathing, and elimination. The individual requires supervision at all times.\\nmoney. Caretakers provide extensive supports for problem solving throughout life.\\nSpeech and communication are focused on the here and now within everyday events. Language is used for social communication more than for explication. Individuals understand simple speech and gestural communication. Relationships with family members and familiar others are a source of pleasure and help.\\nThe individual cannot make responsible decisions regarding well-being of self or others. In adulthood, participation in tasks at home, recreation, and work requires ongoing support and assistance. Skill acquisition in all domains involves long-term teaching and ongoing support. Maladaptive behavior, including self-injury, is present in a significant minority.\\nProfound\\nConceptual skills generally involve the physical world rather than symbolic processes. The individual may use objects in goal-directed fashion for self-care, work, and recreation. Certain visuospatial skills, such as matching and sorting based on physical characteristics, may be acquired. However, co-occurring motor and sensory impairments may prevent functional use of objects.\\nThe individual has very limited understanding of symbolic communication in speech or gesture. He or she may understand some simple instructions or gestures. The individual expresses his or her own desires and emotions largely through nonverbal, nonsymbolic communication. The individual enjoys relationships with well- known family members, caretakers, and familiar others, and initiates and responds to social interactions through gestural and emotional cues. Co-occurring sensory and physical impairments may prevent many social activities.\\nThe individual is dependent on others for all aspects of daily physical care, health, and safety, although he or she may be able to participate in some of these activities as well. Individuals without severe physical impairments may assist with some daily work tasks at home, like carrying dishes to the table. Simple actions with objects may be the basis of participation in some vocational activities with high levels of ongoing support. Recreational activities may involve, for example, enjoyment in listening to music, watching movies, going out for walks, or participating in water activities, all with the support of others. Co- occurring physical and sensory impairments are frequent barriers to participation (beyond watching) in home, recreational, and vocational activities. Maladaptive behavior is present in a significant minority.\\nSpecifiers The various levels of severity are defined on the basis of adaptive functioning, and not IQ scores, because it is adaptive functioning that determines the level of supports required. Moreover, IQ measures are less valid in the lower end of the IQ range.'}"
      ]
     },
     "execution_count": 20,
     "metadata": {},
     "output_type": "execute_result"
    }
   ],
   "source": [
    "dsm_5[\"SECTION II\"]"
   ]
  },
  {
   "cell_type": "code",
   "execution_count": 12,
   "metadata": {},
   "outputs": [
    {
     "data": {
      "text/plain": [
       "{'code': None,\n",
       " 'criteria': 'F22\\nA. The presence of one (or more) delusions with a duration of 1 month or longer. B. Criterion A for schizophrenia has never been met.\\nNote: Hallucinations, if present, are not prominent and are related to the delusional theme (e.g., the sensation of being infested with insects associated with delusions of infestation).\\nC. Apart from the impact of the delusion(s) or its ramifications, functioning is not\\nmarkedly impaired, and behavior is not obviously bizarre or odd.\\nD. If manic or major depressive episodes have occurred, these have been brief\\nrelative to the duration of the delusional periods.\\nE. The disturbance is not attributable to the physiological effects of a substance or another medical condition and is not better explained by another mental disorder, such as body dysmorphic disorder or obsessive-compulsive disorder.\\nSpecify whether:\\nErotomanic type: This subtype applies when the central theme of the delusion is that another person is in love with the individual.\\nGrandiose type: This subtype applies when the central theme of the delusion is the conviction of having some great (but unrecognized) talent or insight or having made some important discovery.\\nJealous type: This subtype applies when the central theme of the individual’s delusion is that his or her spouse or lover is unfaithful.\\nPersecutory type: This subtype applies when the central theme of the delusion involves the individual’s belief that he or she is being conspired against, cheated, spied on, followed, poisoned or drugged, maliciously maligned, harassed, or obstructed in the pursuit of long-term goals.\\nSomatic type: This subtype applies when the central theme of the delusion involves bodily functions or sensations.\\nMixed type: This subtype applies when no one delusional theme predominates.\\nUnspecified type: This subtype applies when the dominant delusional belief cannot be clearly determined or is not described in the specific types (e.g., referential delusions without a prominent persecutory or grandiose component).\\nSpecify if:\\nWith bizarre content: Delusions are deemed bizarre if they are clearly implausible, not understandable, and not derived from ordinary life experiences (e.g., an individual’s belief that a stranger has removed his or her internal organs and replaced them with someone else’s organs without leaving any wounds or scars). Specify if: The following course specifiers are only to be used after a 1-year duration of the disorder:\\nFirst episode, currently in acute episode: First manifestation of the disorder meeting the defining diagnostic symptom and time criteria. An acute episode is a time period in which the symptom criteria are fulfilled. First episode, currently in partial remission: Partial remission is a time period during which an improvement after a previous episode is maintained and in which the defining criteria of the disorder are only partially fulfilled. First episode, currently in full remission: Full remission is a period of time after a previous episode during which no disorder-specific symptoms are present.\\nMultiple episodes, currently in acute episode\\nMultiple episodes, currently in partial remission\\nMultiple episodes, currently in full remission\\nContinuous: Symptoms fulfilling the diagnostic symptom criteria of the disorder are remaining for the majority of the illness course, with subthreshold symptom periods being very brief relative to the overall course.\\nUnspecified\\nSpecify current severity:\\nSeverity is rated by a quantitative assessment of the primary symptoms of psychosis, including delusions, hallucinations, disorganized speech, abnormal psychomotor\\nbehavior, and negative symptoms. Each of these symptoms may be rated for its current severity (most severe in the last 7 days) on a 5-point scale ranging from 0 (not present) to 4 (present and severe). (See Clinician-Rated Dimensions of Psychosis Symptom Severity in the chapter “Assessment Measures.”)\\nNote: Diagnosis of delusional disorder can be made without using this severity specifier.'}"
      ]
     },
     "execution_count": 12,
     "metadata": {},
     "output_type": "execute_result"
    }
   ],
   "source": [
    "dsm_5[\"Delusional Disorder\"]"
   ]
  },
  {
   "cell_type": "code",
   "execution_count": 17,
   "metadata": {},
   "outputs": [
    {
     "data": {
      "text/plain": [
       "<re.Match object; span=(0, 5), match='F22.3'>"
      ]
     },
     "execution_count": 17,
     "metadata": {},
     "output_type": "execute_result"
    }
   ],
   "source": [
    "import re\n",
    "\n",
    "re.match(r\"^F\\d+.?\\d+$\", \"F22.3\")"
   ]
  },
  {
   "cell_type": "code",
   "execution_count": null,
   "metadata": {},
   "outputs": [],
   "source": []
  }
 ],
 "metadata": {
  "kernelspec": {
   "display_name": "langchain",
   "language": "python",
   "name": "langchain"
  },
  "language_info": {
   "codemirror_mode": {
    "name": "ipython",
    "version": 3
   },
   "file_extension": ".py",
   "mimetype": "text/x-python",
   "name": "python",
   "nbconvert_exporter": "python",
   "pygments_lexer": "ipython3",
   "version": "3.11.6"
  }
 },
 "nbformat": 4,
 "nbformat_minor": 2
}
