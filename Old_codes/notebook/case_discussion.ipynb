{
  "cells": [
    {
      "attachments": {},
      "cell_type": "markdown",
      "id": "ae1f50ec",
      "metadata": {
        "id": "ae1f50ec"
      },
      "source": [
        "<a href=\"https://colab.research.google.com/github/microsoft/autogen/blob/main/notebook/agentchat_function_call.ipynb\" target=\"_parent\"><img src=\"https://colab.research.google.com/assets/colab-badge.svg\" alt=\"Open In Colab\"/></a>"
      ]
    },
    {
      "cell_type": "code",
      "execution_count": 4,
      "id": "dca301a4",
      "metadata": {
        "id": "dca301a4"
      },
      "outputs": [],
      "source": [
        "import autogen\n",
        "import os\n",
        "\n",
        "config_list = autogen.config_list_from_json(\"OAI_CONFIG_LIST\")"
      ]
    },
    {
      "attachments": {},
      "cell_type": "markdown",
      "id": "2b9526e7",
      "metadata": {
        "id": "2b9526e7"
      },
      "source": [
        "## Making Function Calls\n",
        "\n",
        "In this example, we demonstrate function call execution with `AssistantAgent` and `UserProxyAgent`. With the default system prompt of `AssistantAgent`, we allow the LLM assistant to perform tasks with code, and the `UserProxyAgent` would extract code blocks from the LLM response and execute them. With the new \"function_call\" feature, we define functions and specify the description of the function in the OpenAI config for the `AssistantAgent`. Then we register the functions in `UserProxyAgent`.\n"
      ]
    },
    {
      "cell_type": "code",
      "execution_count": 5,
      "metadata": {},
      "outputs": [
        {
          "data": {
            "text/plain": [
              "'/Users/anselm/_DEV_/_LLM_/AutoGen/notebook'"
            ]
          },
          "execution_count": 5,
          "metadata": {},
          "output_type": "execute_result"
        }
      ],
      "source": [
        "os.getcwd()"
      ]
    },
    {
      "cell_type": "code",
      "execution_count": 6,
      "id": "qCzNbbVajvpc",
      "metadata": {
        "id": "qCzNbbVajvpc"
      },
      "outputs": [],
      "source": [
        "# Import things that are needed generically\n",
        "from langchain.pydantic_v1 import BaseModel, Field\n",
        "from langchain.tools import BaseTool\n",
        "from typing import Optional, Type\n",
        "import math\n",
        "import os\n",
        "\n",
        "\n",
        "def get_file():\n",
        "    # Get the current working directory\n",
        "    file_path = os.path.join(os.getcwd(), \"20160728.txt\")\n",
        "\n",
        "    with open(file_path, \"r\") as f:\n",
        "        content = f.read()\n",
        "\n",
        "    return content"
      ]
    },
    {
      "cell_type": "code",
      "execution_count": 9,
      "id": "COlL5_98atDs",
      "metadata": {
        "colab": {
          "base_uri": "https://localhost:8080/"
        },
        "id": "COlL5_98atDs",
        "outputId": "24ce236d-8993-4a69-99e2-65453574d61e"
      },
      "outputs": [
        {
          "name": "stdout",
          "output_type": "stream",
          "text": [
            "\u001b[33mprofessor\u001b[0m (to chat_manager):\n",
            "\n",
            "Read the following case report. \n",
            "\n",
            " 상기환자는 병전 발랄하고 밝은 성격이었음. 현재 대학교 휴학 중이며 어머니, 오빠, 남동생과 같이 거주중임. 환자가 초등학교 5학년 시절 부모가 이혼을 하였고 환자는 아버지를 따라 태국으로 가서 4년간 같이 살게 되었음. 하지만 아버지의 지속된 폭력적인 모습으로 남매 모두가 아버지와 살 수 없다며 한국으로 귀국하여 어머니와 함께 지내왔음. \n",
            " 환자는 2014년도까지 한국에서 어머니와 함께 일상생활을 잘 지내왔고 아버지가 한국으로 와서 환자와 간헐적으로 연락을 해 만난 적도 있음. 2014년 12월 말경 아버지의 선교사 일을 돕기 위해 아버지와 같이 태국으로 가게 되었고 2주 동안은 큰 문제없이 생활하였고 한국에 있는 어머니와 연락을 할 때도 별 문제 없었음. 2015년 1월 환자는 5년간 사귄 태국에 살고 있는 중국인 남자친구를 만나기 위해 푸켓으로 가게 되었음. 환자의 남자친구는 푸켓에서 여행 가이드를 하고 있었는데 여행 패키지 빈자리에 환자가 합류하여 같이 여행을 다녔음. 여행 일정 중 스트립 쇼를 하는 바에 방문하는 것이 있었고 그곳에서 퇴폐적인 문화를 보면서 환자는 충격을 크게 받았음. 환자는 스트립 바에서 주는 칵테일을 1-2잔 마신 이후 정신을 잃었다고 하며 일어나서 보니 옷이 벗겨진 채 남자친구와 호텔방에 있었음. 당시 환자는 처음 성관계를 하게 되었다고 하며 어느 정도 예상은 하고 여행을 간 것이긴 하지만 충격은 있었음. 이후 환자는 본인 주량에 비해 적은 양의 술을 마셨는데 정신이 없어진 것 같다고 하며 술에 무언가를 타지 않았을까 생각했었음. 환자는 이 일이 있은 이후부터 생각이 혼란스럽고 누가 환자의 이름을 부르는 소리가 들리는 auditory hallucination 증상 발생하였음. 또한 환자는 어머니에게 메신저로 단어로만 이야기를 하며 친구들이 환자를 놀리는 것 같은 paranoid ideation 보이며 말이 점차 없어졌음. 이를 이상하게 여긴 친구들이 환자의 어머니에게 연락을 하게 되었고 환자는 어머니와 전화를 할 때도 대화를 하지 못하고 단어로만 이야기하고 어눌한 말투가 지속되었음. 이후 환자는 태국에 있는 이모의 집으로 지인들의 도움을 받아 이동을 하게 되었고 이모를 만났을 때도 알아보지 못하였음. 환자는 식사 및 수면도 제대로 하지 못하며 몸이 굳어져 있고 말을 하지 않는 negativism, mutism 등의 catatonic features를 보였음. 또한 환자는 전쟁이 나서 다 죽는다며 도망가야 된다고도 하고 건물 밑에 시체가 가득해서 시체 썩는 냄새가 난다는 등의 olfactory hallucination 표현하기도 하였음. 2015년 1월 22일 환자의 어머니는 직접 태국으로 가서 환자를 데리고 한국으로 데려왔고 당시에도 환자는 몸이 굳어져 있는 등의 catatonic features 지속되어 이동하는데 어려움이 있었다고 함. 한국에 와서도 환자의 움직이지 않는 증상과 말도 못하는 증상 지속되어 하루 뒤에 진료위해 본원 응급실에 내원하였고 평가 및 치료 위해 안정병동에 입원하였음. 입원 후 환자는 스스로 강아지가 된 것 같아 네발로 다니고 짖는 모습도 보였으며 다른 날에는 흰 옷 입은 치료진들이 천사로 보여 천국에 온 것이라고 생각을 하거나 세상의 종말이 오는 것은 아닌지 불안해하기도 하며 본인을 욕하는 auditory hallucination 호소하였음. 입원 당시 paliperidone으로 약물치료를 시작하였으나 검사 상 호르몬 이상 소견 보여 aripiprazole로 변경하였고 이후 환자는 강아지처럼 행동하는 모습 등의 psychotic symptoms는 호전되는 양상 보였음. 입원 2주 후 환자는 psychotic symptoms이 없어졌다고 하며 외박을 안정적으로 시행하였고 입원 3주 만에 퇴원하였음.\n",
            " 환자는 퇴원이후 외래에 내원하면서 안정적으로 지냈으나 증상이 없다고 생각해 약을 복용하는 것을 꺼려했고 2개월 정도 복용 후 자의로 먹지 않고 지냈음. 환자는 이후 대전소재 대학교 중국어과에 진학을 하였고 부과대를 맡아서 하는 등의 활발한 학교생활을 하였음. 환자는 모던 바에서 아르바이트도 하고 대학교 친구들과 만나면서 술과 담배를 즐겨하게 되었음. 환자는 대학생활을 하면서 들떠 있는 기분이었다고 하며 클럽이나 나이트에서 이성들을 가볍게 자주 만나는 편이었고 그런 것들이 재밌었다고 함. 환자는 스스로 인기가 많고 주변에서 환자를 좋아하는 사람들이 많다고 생각을 했고 공허하다는 감정을 느낀 적은 수차례 있었으며 그럴 때 교회에서 신앙으로 위로를 받았다고 함. \n",
            " 2016년 3월 환자는 콜센터에서 아르바이트를 시작하였고 같이 일하는 동료들에게 배려하고 잘해주려고 했으나 몇몇 사람들은 착한 척을 한다고 생각하며 환자를 좋지 않게 봤다고 함. 환자는 주변사람들이 자꾸 본인얘기를 하는 것 같은 idea of reference 발생하였고 본인을 욕하는 소리가 귀에서 들린 것 같아 돌아봐서 주위에 물어보면 아무 말도 안했다고 하여 기분이 언짢았음. 환자는 화가 났지만 본인이 일을 잘하고 주변사람들이 못나서 그러는 것이라고 스스로를 위로하며 일을 계속 했음. 하지만 위와 같은 일이 수차례 반복되었고 환자는 들리는 게 환청인지 정말 주위사람들이 안 좋은 말을 하는 것인지 혼란스러워졌음. 환자는 증상이 지속된 채로 5월까지 일을 하였으나 더 이상은 하기 힘들다고 생각해 일을 그만두고 본원 외래에 내원하여 aripiprazole 처방받았음. 환자는 약을 복용하자 숨쉬기가 힘들고 상태가 더 악화되는 것 같아 하루 복용한 후 더 이상 먹지 않았음. 환자는 증상이 지속되었으나 마트에서 캐셔 일을 새로 시작하였고 그곳에서도 본인 욕을 하는 것 같았음. 2016년 6월부터 환자는 주로 elated mood인 상태로 본인 뜻대로 되지 않으면 욕을 내고 화를 내며 잠을 1시간 정도만 자도 기운이 넘치는 decreased need for sleep, 교회일도 하고 돈도 벌어야 되고 가족들도 챙겨야 된다면서 여러 가지 일을 동시에 하려고 하는 hyperactivity, 말을 쉬지 않고 계속 하는 talkative speech 등의 manic symptoms 보였음. 2016년 7월 환자는 누가 메신저와 SNS를 해킹한다고 하며 어머니에게도 누가 이야기를 하는 것을 듣고 있다고 하며 조용히 하라는 persecutory delusion 증상과 교회 일에 집착하며 본인이 하는 얘기가 성령님이 하는 말이라는 grandiose한 모습 보였음. 환자의 manic symptoms 지속되며 irritability 심해져 행동이 조절되지 않아 본원의 외래에 내원하였고 평가 및 치료위해 안정병동에 입원하였음.\n",
            " \n",
            "\n",
            " After thorough discussion, submit a report containing the possible diagnosis and psychodynamic formulation\n",
            "\n",
            "--------------------------------------------------------------------------------\n",
            "\u001b[33mpresenter\u001b[0m (to chat_manager):\n",
            "\n",
            "Based on the information provided, this patient's symptoms are most indicative of a Bipolar I Disorder. This is suggested by episodes of both mania and major depression, as well as elements of psychosis including auditory and olfactory hallucinations, grandiosity, and paranoid delusions. \n",
            "\n",
            "During her manic phases, the patient had decreased need for sleep, talkative speech, hyperactivity or psychomotor agitation (trying to do several tasks simultaneously), elated mood with periods of irritability. These symptoms matched with manic episode's criteria according to DSM-5. Also, she experienced grandiose delusion, which is often present in manic episode. The depressive phase or mixed episodes, however, are not clearly outlined in the case. \n",
            "\n",
            "The psychotic experiences including auditory hallucinations and persecutory delusions are also indicative of a severe depressive or manic episode of Bipolar I disorder. \n",
            "Though psychotic features themselves can be seen in Schizophrenia, the symptoms in the case do not fit within the full criteria of Schizophrenia and go beyond psychotic symptoms to include institutionally typical features of bipolar disorder, for instance, the mood-congruent nature of hallucinations or delusions.\n",
            "\n",
            "The patient’s psychodynamic formulation indicates that traumatic past experiences, such as the paternal abuse, parental divorce, abrupt sexual encounter and cultural shock, may have contributed to her dysregulation of mood and behavior. A psychodynamic understanding of bipolar disorder focuses on the defense mechanisms that the individual uses to manage internal conflict. Manic episodes could signify an unconscious defense mechanism against the traumatic experiences and depressive feelings, possibly explaining her elevated mood and hyperactivity. \n",
            "\n",
            "The patient’s struggles with interpersonal relationships, paranoid ideation and referential thinking suggest a intense anxiety about others’ judgment or hostility - a reflection, possibly, on her past traumatic experiences.\n",
            "\n",
            "It's also worth noting that her non-compliance with the medication management, which is often a challenge in psychiatric patients, would have exacerbated her symptoms and manic or psychotic episodes. \n",
            "\n",
            "In conclusion, early life traumatic experiences have likely played a role in the patient's development of Bipolar I disorder. Despite the criticism, it is crucial to maintain an empathetic and nonjudgmental stance when dealing with patients facing these intense periods of psychological distress and impairment. Treatment should include medication management and psychosocial interventions to help the patient develop coping mechanisms for stress, enhance medication adherence, and improve social and occupational functioning. Notably, given the patient's past non-compliance to medication, it is advisable that psychoeducation be an integral part of management.\n",
            "\n",
            "--------------------------------------------------------------------------------\n",
            "\u001b[33mcritic\u001b[0m (to chat_manager):\n",
            "\n",
            "I agree with your diagnosis of Bipolar I Disorder, considering the delineated episodes of mania and signs of psychosis. However, the absence of clear manifestations of depressive episodes in the case presents an obstacle to conclusively diagnosing this disorder, as Bipolar I requires at least one manic episode and one major depressive episode.\n",
            "\n",
            "Furthermore, although psychodynamic explanation of Bipolar I Disorder lays emphasis on the use of defense mechanisms in managing internal conflict, the precise psychodynamic mechanisms underlying bipolar disorders remain, to a large extent, speculative and empirically unverified. Contemporary understandings of Bipolar Disorders are majorly biological, with focus on genetic predisposition and neurochemical imbalances, supplemented by the interaction of these factors with environmental triggers. \n",
            "\n",
            "While early life traumatic experiences do play a role in mental health, attributing the cause of the disorder to traumatic experiences, as your presentation suggests, simplifies a complex interplay of genetic, biological and environmental factors in the onset of Bipolar I Disorder. Your psychodynamic formulation seems to lean heavily on the environmental aspect, discounting the multifactorial nature of the disorder.\n",
            "\n",
            "Your comments on medication non-compliance are valid; however, it would be productive to delve more into the reasons behind non-compliance beyond simple disobedience or refusal. Could her non-compliance be an expression of her autonomy amidst her emotionally chaotic life or a reaction to the side effects of her medications? An exploration of such questions could provide more insight and lead to more patient-tailored interventions to improve adherence. \n",
            "\n",
            "The treatment plan you propose, with a focus on medication management and psychosocial interventions, is generally effective for bipolar disorder. However, individualized therapeutic regimes, considering patient's unique experiences and circumstances, might yield better treatment outcomes. Lastly, psychoeducation does play a vital role, but realistically, it should also target family members and close associates who can provide support and reinforcement.\n",
            "\n",
            "--------------------------------------------------------------------------------\n"
          ]
        },
        {
          "ename": "AuthenticationError",
          "evalue": "Error code: 401 - {'error': {'message': 'Incorrect API key provided: sk-tWsmC***************************************2PVZ. You can find your API key at https://platform.openai.com/account/api-keys.', 'type': 'invalid_request_error', 'param': None, 'code': 'invalid_api_key'}}",
          "output_type": "error",
          "traceback": [
            "\u001b[0;31m---------------------------------------------------------------------------\u001b[0m",
            "\u001b[0;31mAuthenticationError\u001b[0m                       Traceback (most recent call last)",
            "\u001b[1;32m/Users/anselm/_DEV_/_LLM_/AutoGen/notebook/case_discussion.ipynb Cell 6\u001b[0m line \u001b[0;36m4\n\u001b[1;32m     <a href='vscode-notebook-cell:/Users/anselm/_DEV_/_LLM_/AutoGen/notebook/case_discussion.ipynb#X11sZmlsZQ%3D%3D?line=39'>40</a>\u001b[0m groupchat \u001b[39m=\u001b[39m autogen\u001b[39m.\u001b[39mGroupChat(agents\u001b[39m=\u001b[39m[presenter, critic, verifier, professor], messages\u001b[39m=\u001b[39m[], max_round\u001b[39m=\u001b[39m\u001b[39m20\u001b[39m)\n\u001b[1;32m     <a href='vscode-notebook-cell:/Users/anselm/_DEV_/_LLM_/AutoGen/notebook/case_discussion.ipynb#X11sZmlsZQ%3D%3D?line=40'>41</a>\u001b[0m manager \u001b[39m=\u001b[39m autogen\u001b[39m.\u001b[39mGroupChatManager(groupchat\u001b[39m=\u001b[39mgroupchat, llm_config\u001b[39m=\u001b[39mllm_config)\n\u001b[0;32m---> <a href='vscode-notebook-cell:/Users/anselm/_DEV_/_LLM_/AutoGen/notebook/case_discussion.ipynb#X11sZmlsZQ%3D%3D?line=42'>43</a>\u001b[0m professor\u001b[39m.\u001b[39;49minitiate_chat(\n\u001b[1;32m     <a href='vscode-notebook-cell:/Users/anselm/_DEV_/_LLM_/AutoGen/notebook/case_discussion.ipynb#X11sZmlsZQ%3D%3D?line=43'>44</a>\u001b[0m     manager,\n\u001b[1;32m     <a href='vscode-notebook-cell:/Users/anselm/_DEV_/_LLM_/AutoGen/notebook/case_discussion.ipynb#X11sZmlsZQ%3D%3D?line=44'>45</a>\u001b[0m     message\u001b[39m=\u001b[39;49m\u001b[39mf\u001b[39;49m\u001b[39m\"\u001b[39;49m\u001b[39mRead the following case report. \u001b[39;49m\u001b[39m\\n\u001b[39;49;00m\u001b[39m\\n\u001b[39;49;00m\u001b[39m \u001b[39;49m\u001b[39m{\u001b[39;49;00mget_file()\u001b[39m}\u001b[39;49;00m\u001b[39m \u001b[39;49m\u001b[39m\\n\u001b[39;49;00m\u001b[39m\\n\u001b[39;49;00m\u001b[39m After thorough discussion, submit a report containing the possible diagnosis and psychodynamic formulation\u001b[39;49m\u001b[39m\"\u001b[39;49m,\n\u001b[1;32m     <a href='vscode-notebook-cell:/Users/anselm/_DEV_/_LLM_/AutoGen/notebook/case_discussion.ipynb#X11sZmlsZQ%3D%3D?line=45'>46</a>\u001b[0m     llm_config\u001b[39m=\u001b[39;49mllm_config,\n\u001b[1;32m     <a href='vscode-notebook-cell:/Users/anselm/_DEV_/_LLM_/AutoGen/notebook/case_discussion.ipynb#X11sZmlsZQ%3D%3D?line=46'>47</a>\u001b[0m )\n",
            "File \u001b[0;32m~/miniforge3/envs/langchain/lib/python3.11/site-packages/autogen/agentchat/conversable_agent.py:550\u001b[0m, in \u001b[0;36mConversableAgent.initiate_chat\u001b[0;34m(self, recipient, clear_history, silent, **context)\u001b[0m\n\u001b[1;32m    536\u001b[0m \u001b[39m\u001b[39m\u001b[39m\"\"\"Initiate a chat with the recipient agent.\u001b[39;00m\n\u001b[1;32m    537\u001b[0m \n\u001b[1;32m    538\u001b[0m \u001b[39mReset the consecutive auto reply counter.\u001b[39;00m\n\u001b[0;32m   (...)\u001b[0m\n\u001b[1;32m    547\u001b[0m \u001b[39m        \"message\" needs to be provided if the `generate_init_message` method is not overridden.\u001b[39;00m\n\u001b[1;32m    548\u001b[0m \u001b[39m\"\"\"\u001b[39;00m\n\u001b[1;32m    549\u001b[0m \u001b[39mself\u001b[39m\u001b[39m.\u001b[39m_prepare_chat(recipient, clear_history)\n\u001b[0;32m--> 550\u001b[0m \u001b[39mself\u001b[39;49m\u001b[39m.\u001b[39;49msend(\u001b[39mself\u001b[39;49m\u001b[39m.\u001b[39;49mgenerate_init_message(\u001b[39m*\u001b[39;49m\u001b[39m*\u001b[39;49mcontext), recipient, silent\u001b[39m=\u001b[39;49msilent)\n",
            "File \u001b[0;32m~/miniforge3/envs/langchain/lib/python3.11/site-packages/autogen/agentchat/conversable_agent.py:348\u001b[0m, in \u001b[0;36mConversableAgent.send\u001b[0;34m(self, message, recipient, request_reply, silent)\u001b[0m\n\u001b[1;32m    346\u001b[0m valid \u001b[39m=\u001b[39m \u001b[39mself\u001b[39m\u001b[39m.\u001b[39m_append_oai_message(message, \u001b[39m\"\u001b[39m\u001b[39massistant\u001b[39m\u001b[39m\"\u001b[39m, recipient)\n\u001b[1;32m    347\u001b[0m \u001b[39mif\u001b[39;00m valid:\n\u001b[0;32m--> 348\u001b[0m     recipient\u001b[39m.\u001b[39;49mreceive(message, \u001b[39mself\u001b[39;49m, request_reply, silent)\n\u001b[1;32m    349\u001b[0m \u001b[39melse\u001b[39;00m:\n\u001b[1;32m    350\u001b[0m     \u001b[39mraise\u001b[39;00m \u001b[39mValueError\u001b[39;00m(\n\u001b[1;32m    351\u001b[0m         \u001b[39m\"\u001b[39m\u001b[39mMessage can\u001b[39m\u001b[39m'\u001b[39m\u001b[39mt be converted into a valid ChatCompletion message. Either content or function_call must be provided.\u001b[39m\u001b[39m\"\u001b[39m\n\u001b[1;32m    352\u001b[0m     )\n",
            "File \u001b[0;32m~/miniforge3/envs/langchain/lib/python3.11/site-packages/autogen/agentchat/conversable_agent.py:481\u001b[0m, in \u001b[0;36mConversableAgent.receive\u001b[0;34m(self, message, sender, request_reply, silent)\u001b[0m\n\u001b[1;32m    479\u001b[0m \u001b[39mif\u001b[39;00m request_reply \u001b[39mis\u001b[39;00m \u001b[39mFalse\u001b[39;00m \u001b[39mor\u001b[39;00m request_reply \u001b[39mis\u001b[39;00m \u001b[39mNone\u001b[39;00m \u001b[39mand\u001b[39;00m \u001b[39mself\u001b[39m\u001b[39m.\u001b[39mreply_at_receive[sender] \u001b[39mis\u001b[39;00m \u001b[39mFalse\u001b[39;00m:\n\u001b[1;32m    480\u001b[0m     \u001b[39mreturn\u001b[39;00m\n\u001b[0;32m--> 481\u001b[0m reply \u001b[39m=\u001b[39m \u001b[39mself\u001b[39;49m\u001b[39m.\u001b[39;49mgenerate_reply(messages\u001b[39m=\u001b[39;49m\u001b[39mself\u001b[39;49m\u001b[39m.\u001b[39;49mchat_messages[sender], sender\u001b[39m=\u001b[39;49msender)\n\u001b[1;32m    482\u001b[0m \u001b[39mif\u001b[39;00m reply \u001b[39mis\u001b[39;00m \u001b[39mnot\u001b[39;00m \u001b[39mNone\u001b[39;00m:\n\u001b[1;32m    483\u001b[0m     \u001b[39mself\u001b[39m\u001b[39m.\u001b[39msend(reply, sender, silent\u001b[39m=\u001b[39msilent)\n",
            "File \u001b[0;32m~/miniforge3/envs/langchain/lib/python3.11/site-packages/autogen/agentchat/conversable_agent.py:906\u001b[0m, in \u001b[0;36mConversableAgent.generate_reply\u001b[0;34m(self, messages, sender, exclude)\u001b[0m\n\u001b[1;32m    904\u001b[0m     \u001b[39mcontinue\u001b[39;00m\n\u001b[1;32m    905\u001b[0m \u001b[39mif\u001b[39;00m \u001b[39mself\u001b[39m\u001b[39m.\u001b[39m_match_trigger(reply_func_tuple[\u001b[39m\"\u001b[39m\u001b[39mtrigger\u001b[39m\u001b[39m\"\u001b[39m], sender):\n\u001b[0;32m--> 906\u001b[0m     final, reply \u001b[39m=\u001b[39m reply_func(\u001b[39mself\u001b[39;49m, messages\u001b[39m=\u001b[39;49mmessages, sender\u001b[39m=\u001b[39;49msender, config\u001b[39m=\u001b[39;49mreply_func_tuple[\u001b[39m\"\u001b[39;49m\u001b[39mconfig\u001b[39;49m\u001b[39m\"\u001b[39;49m])\n\u001b[1;32m    907\u001b[0m     \u001b[39mif\u001b[39;00m final:\n\u001b[1;32m    908\u001b[0m         \u001b[39mreturn\u001b[39;00m reply\n",
            "File \u001b[0;32m~/miniforge3/envs/langchain/lib/python3.11/site-packages/autogen/agentchat/groupchat.py:271\u001b[0m, in \u001b[0;36mGroupChatManager.run_chat\u001b[0;34m(self, messages, sender, config)\u001b[0m\n\u001b[1;32m    269\u001b[0m     speaker \u001b[39m=\u001b[39m groupchat\u001b[39m.\u001b[39mselect_speaker(speaker, \u001b[39mself\u001b[39m)\n\u001b[1;32m    270\u001b[0m     \u001b[39m# let the speaker speak\u001b[39;00m\n\u001b[0;32m--> 271\u001b[0m     reply \u001b[39m=\u001b[39m speaker\u001b[39m.\u001b[39;49mgenerate_reply(sender\u001b[39m=\u001b[39;49m\u001b[39mself\u001b[39;49m)\n\u001b[1;32m    272\u001b[0m \u001b[39mexcept\u001b[39;00m \u001b[39mKeyboardInterrupt\u001b[39;00m:\n\u001b[1;32m    273\u001b[0m     \u001b[39m# let the admin agent speak if interrupted\u001b[39;00m\n\u001b[1;32m    274\u001b[0m     \u001b[39mif\u001b[39;00m groupchat\u001b[39m.\u001b[39madmin_name \u001b[39min\u001b[39;00m groupchat\u001b[39m.\u001b[39magent_names:\n\u001b[1;32m    275\u001b[0m         \u001b[39m# admin agent is one of the participants\u001b[39;00m\n",
            "File \u001b[0;32m~/miniforge3/envs/langchain/lib/python3.11/site-packages/autogen/agentchat/conversable_agent.py:906\u001b[0m, in \u001b[0;36mConversableAgent.generate_reply\u001b[0;34m(self, messages, sender, exclude)\u001b[0m\n\u001b[1;32m    904\u001b[0m     \u001b[39mcontinue\u001b[39;00m\n\u001b[1;32m    905\u001b[0m \u001b[39mif\u001b[39;00m \u001b[39mself\u001b[39m\u001b[39m.\u001b[39m_match_trigger(reply_func_tuple[\u001b[39m\"\u001b[39m\u001b[39mtrigger\u001b[39m\u001b[39m\"\u001b[39m], sender):\n\u001b[0;32m--> 906\u001b[0m     final, reply \u001b[39m=\u001b[39m reply_func(\u001b[39mself\u001b[39;49m, messages\u001b[39m=\u001b[39;49mmessages, sender\u001b[39m=\u001b[39;49msender, config\u001b[39m=\u001b[39;49mreply_func_tuple[\u001b[39m\"\u001b[39;49m\u001b[39mconfig\u001b[39;49m\u001b[39m\"\u001b[39;49m])\n\u001b[1;32m    907\u001b[0m     \u001b[39mif\u001b[39;00m final:\n\u001b[1;32m    908\u001b[0m         \u001b[39mreturn\u001b[39;00m reply\n",
            "File \u001b[0;32m~/miniforge3/envs/langchain/lib/python3.11/site-packages/autogen/agentchat/conversable_agent.py:625\u001b[0m, in \u001b[0;36mConversableAgent.generate_oai_reply\u001b[0;34m(self, messages, sender, config)\u001b[0m\n\u001b[1;32m    622\u001b[0m     messages \u001b[39m=\u001b[39m \u001b[39mself\u001b[39m\u001b[39m.\u001b[39m_oai_messages[sender]\n\u001b[1;32m    624\u001b[0m \u001b[39m# TODO: #1143 handle token limit exceeded error\u001b[39;00m\n\u001b[0;32m--> 625\u001b[0m response \u001b[39m=\u001b[39m client\u001b[39m.\u001b[39;49mcreate(\n\u001b[1;32m    626\u001b[0m     context\u001b[39m=\u001b[39;49mmessages[\u001b[39m-\u001b[39;49m\u001b[39m1\u001b[39;49m]\u001b[39m.\u001b[39;49mpop(\u001b[39m\"\u001b[39;49m\u001b[39mcontext\u001b[39;49m\u001b[39m\"\u001b[39;49m, \u001b[39mNone\u001b[39;49;00m), messages\u001b[39m=\u001b[39;49m\u001b[39mself\u001b[39;49m\u001b[39m.\u001b[39;49m_oai_system_message \u001b[39m+\u001b[39;49m messages\n\u001b[1;32m    627\u001b[0m )\n\u001b[1;32m    628\u001b[0m \u001b[39mreturn\u001b[39;00m \u001b[39mTrue\u001b[39;00m, client\u001b[39m.\u001b[39mextract_text_or_function_call(response)[\u001b[39m0\u001b[39m]\n",
            "File \u001b[0;32m~/miniforge3/envs/langchain/lib/python3.11/site-packages/autogen/oai/client.py:247\u001b[0m, in \u001b[0;36mOpenAIWrapper.create\u001b[0;34m(self, **config)\u001b[0m\n\u001b[1;32m    245\u001b[0m             \u001b[39mcontinue\u001b[39;00m  \u001b[39m# filter is not passed; try the next config\u001b[39;00m\n\u001b[1;32m    246\u001b[0m \u001b[39mtry\u001b[39;00m:\n\u001b[0;32m--> 247\u001b[0m     response \u001b[39m=\u001b[39m \u001b[39mself\u001b[39;49m\u001b[39m.\u001b[39;49m_completions_create(client, params)\n\u001b[1;32m    248\u001b[0m \u001b[39mexcept\u001b[39;00m APIError:\n\u001b[1;32m    249\u001b[0m     logger\u001b[39m.\u001b[39mdebug(\u001b[39mf\u001b[39m\u001b[39m\"\u001b[39m\u001b[39mconfig \u001b[39m\u001b[39m{\u001b[39;00mi\u001b[39m}\u001b[39;00m\u001b[39m failed\u001b[39m\u001b[39m\"\u001b[39m, exc_info\u001b[39m=\u001b[39m\u001b[39m1\u001b[39m)\n",
            "File \u001b[0;32m~/miniforge3/envs/langchain/lib/python3.11/site-packages/autogen/oai/client.py:327\u001b[0m, in \u001b[0;36mOpenAIWrapper._completions_create\u001b[0;34m(self, client, params)\u001b[0m\n\u001b[1;32m    325\u001b[0m     params \u001b[39m=\u001b[39m params\u001b[39m.\u001b[39mcopy()\n\u001b[1;32m    326\u001b[0m     params[\u001b[39m\"\u001b[39m\u001b[39mstream\u001b[39m\u001b[39m\"\u001b[39m] \u001b[39m=\u001b[39m \u001b[39mFalse\u001b[39;00m\n\u001b[0;32m--> 327\u001b[0m     response \u001b[39m=\u001b[39m completions\u001b[39m.\u001b[39;49mcreate(\u001b[39m*\u001b[39;49m\u001b[39m*\u001b[39;49mparams)\n\u001b[1;32m    328\u001b[0m \u001b[39mreturn\u001b[39;00m response\n",
            "File \u001b[0;32m~/miniforge3/envs/langchain/lib/python3.11/site-packages/openai/_utils/_utils.py:301\u001b[0m, in \u001b[0;36mrequired_args.<locals>.inner.<locals>.wrapper\u001b[0;34m(*args, **kwargs)\u001b[0m\n\u001b[1;32m    299\u001b[0m             msg \u001b[39m=\u001b[39m \u001b[39mf\u001b[39m\u001b[39m\"\u001b[39m\u001b[39mMissing required argument: \u001b[39m\u001b[39m{\u001b[39;00mquote(missing[\u001b[39m0\u001b[39m])\u001b[39m}\u001b[39;00m\u001b[39m\"\u001b[39m\n\u001b[1;32m    300\u001b[0m     \u001b[39mraise\u001b[39;00m \u001b[39mTypeError\u001b[39;00m(msg)\n\u001b[0;32m--> 301\u001b[0m \u001b[39mreturn\u001b[39;00m func(\u001b[39m*\u001b[39;49margs, \u001b[39m*\u001b[39;49m\u001b[39m*\u001b[39;49mkwargs)\n",
            "File \u001b[0;32m~/miniforge3/envs/langchain/lib/python3.11/site-packages/openai/resources/chat/completions.py:598\u001b[0m, in \u001b[0;36mCompletions.create\u001b[0;34m(self, messages, model, frequency_penalty, function_call, functions, logit_bias, max_tokens, n, presence_penalty, response_format, seed, stop, stream, temperature, tool_choice, tools, top_p, user, extra_headers, extra_query, extra_body, timeout)\u001b[0m\n\u001b[1;32m    551\u001b[0m \u001b[39m@required_args\u001b[39m([\u001b[39m\"\u001b[39m\u001b[39mmessages\u001b[39m\u001b[39m\"\u001b[39m, \u001b[39m\"\u001b[39m\u001b[39mmodel\u001b[39m\u001b[39m\"\u001b[39m], [\u001b[39m\"\u001b[39m\u001b[39mmessages\u001b[39m\u001b[39m\"\u001b[39m, \u001b[39m\"\u001b[39m\u001b[39mmodel\u001b[39m\u001b[39m\"\u001b[39m, \u001b[39m\"\u001b[39m\u001b[39mstream\u001b[39m\u001b[39m\"\u001b[39m])\n\u001b[1;32m    552\u001b[0m \u001b[39mdef\u001b[39;00m \u001b[39mcreate\u001b[39m(\n\u001b[1;32m    553\u001b[0m     \u001b[39mself\u001b[39m,\n\u001b[0;32m   (...)\u001b[0m\n\u001b[1;32m    596\u001b[0m     timeout: \u001b[39mfloat\u001b[39m \u001b[39m|\u001b[39m httpx\u001b[39m.\u001b[39mTimeout \u001b[39m|\u001b[39m \u001b[39mNone\u001b[39;00m \u001b[39m|\u001b[39m NotGiven \u001b[39m=\u001b[39m NOT_GIVEN,\n\u001b[1;32m    597\u001b[0m ) \u001b[39m-\u001b[39m\u001b[39m>\u001b[39m ChatCompletion \u001b[39m|\u001b[39m Stream[ChatCompletionChunk]:\n\u001b[0;32m--> 598\u001b[0m     \u001b[39mreturn\u001b[39;00m \u001b[39mself\u001b[39;49m\u001b[39m.\u001b[39;49m_post(\n\u001b[1;32m    599\u001b[0m         \u001b[39m\"\u001b[39;49m\u001b[39m/chat/completions\u001b[39;49m\u001b[39m\"\u001b[39;49m,\n\u001b[1;32m    600\u001b[0m         body\u001b[39m=\u001b[39;49mmaybe_transform(\n\u001b[1;32m    601\u001b[0m             {\n\u001b[1;32m    602\u001b[0m                 \u001b[39m\"\u001b[39;49m\u001b[39mmessages\u001b[39;49m\u001b[39m\"\u001b[39;49m: messages,\n\u001b[1;32m    603\u001b[0m                 \u001b[39m\"\u001b[39;49m\u001b[39mmodel\u001b[39;49m\u001b[39m\"\u001b[39;49m: model,\n\u001b[1;32m    604\u001b[0m                 \u001b[39m\"\u001b[39;49m\u001b[39mfrequency_penalty\u001b[39;49m\u001b[39m\"\u001b[39;49m: frequency_penalty,\n\u001b[1;32m    605\u001b[0m                 \u001b[39m\"\u001b[39;49m\u001b[39mfunction_call\u001b[39;49m\u001b[39m\"\u001b[39;49m: function_call,\n\u001b[1;32m    606\u001b[0m                 \u001b[39m\"\u001b[39;49m\u001b[39mfunctions\u001b[39;49m\u001b[39m\"\u001b[39;49m: functions,\n\u001b[1;32m    607\u001b[0m                 \u001b[39m\"\u001b[39;49m\u001b[39mlogit_bias\u001b[39;49m\u001b[39m\"\u001b[39;49m: logit_bias,\n\u001b[1;32m    608\u001b[0m                 \u001b[39m\"\u001b[39;49m\u001b[39mmax_tokens\u001b[39;49m\u001b[39m\"\u001b[39;49m: max_tokens,\n\u001b[1;32m    609\u001b[0m                 \u001b[39m\"\u001b[39;49m\u001b[39mn\u001b[39;49m\u001b[39m\"\u001b[39;49m: n,\n\u001b[1;32m    610\u001b[0m                 \u001b[39m\"\u001b[39;49m\u001b[39mpresence_penalty\u001b[39;49m\u001b[39m\"\u001b[39;49m: presence_penalty,\n\u001b[1;32m    611\u001b[0m                 \u001b[39m\"\u001b[39;49m\u001b[39mresponse_format\u001b[39;49m\u001b[39m\"\u001b[39;49m: response_format,\n\u001b[1;32m    612\u001b[0m                 \u001b[39m\"\u001b[39;49m\u001b[39mseed\u001b[39;49m\u001b[39m\"\u001b[39;49m: seed,\n\u001b[1;32m    613\u001b[0m                 \u001b[39m\"\u001b[39;49m\u001b[39mstop\u001b[39;49m\u001b[39m\"\u001b[39;49m: stop,\n\u001b[1;32m    614\u001b[0m                 \u001b[39m\"\u001b[39;49m\u001b[39mstream\u001b[39;49m\u001b[39m\"\u001b[39;49m: stream,\n\u001b[1;32m    615\u001b[0m                 \u001b[39m\"\u001b[39;49m\u001b[39mtemperature\u001b[39;49m\u001b[39m\"\u001b[39;49m: temperature,\n\u001b[1;32m    616\u001b[0m                 \u001b[39m\"\u001b[39;49m\u001b[39mtool_choice\u001b[39;49m\u001b[39m\"\u001b[39;49m: tool_choice,\n\u001b[1;32m    617\u001b[0m                 \u001b[39m\"\u001b[39;49m\u001b[39mtools\u001b[39;49m\u001b[39m\"\u001b[39;49m: tools,\n\u001b[1;32m    618\u001b[0m                 \u001b[39m\"\u001b[39;49m\u001b[39mtop_p\u001b[39;49m\u001b[39m\"\u001b[39;49m: top_p,\n\u001b[1;32m    619\u001b[0m                 \u001b[39m\"\u001b[39;49m\u001b[39muser\u001b[39;49m\u001b[39m\"\u001b[39;49m: user,\n\u001b[1;32m    620\u001b[0m             },\n\u001b[1;32m    621\u001b[0m             completion_create_params\u001b[39m.\u001b[39;49mCompletionCreateParams,\n\u001b[1;32m    622\u001b[0m         ),\n\u001b[1;32m    623\u001b[0m         options\u001b[39m=\u001b[39;49mmake_request_options(\n\u001b[1;32m    624\u001b[0m             extra_headers\u001b[39m=\u001b[39;49mextra_headers, extra_query\u001b[39m=\u001b[39;49mextra_query, extra_body\u001b[39m=\u001b[39;49mextra_body, timeout\u001b[39m=\u001b[39;49mtimeout\n\u001b[1;32m    625\u001b[0m         ),\n\u001b[1;32m    626\u001b[0m         cast_to\u001b[39m=\u001b[39;49mChatCompletion,\n\u001b[1;32m    627\u001b[0m         stream\u001b[39m=\u001b[39;49mstream \u001b[39mor\u001b[39;49;00m \u001b[39mFalse\u001b[39;49;00m,\n\u001b[1;32m    628\u001b[0m         stream_cls\u001b[39m=\u001b[39;49mStream[ChatCompletionChunk],\n\u001b[1;32m    629\u001b[0m     )\n",
            "File \u001b[0;32m~/miniforge3/envs/langchain/lib/python3.11/site-packages/openai/_base_client.py:1096\u001b[0m, in \u001b[0;36mSyncAPIClient.post\u001b[0;34m(self, path, cast_to, body, options, files, stream, stream_cls)\u001b[0m\n\u001b[1;32m   1082\u001b[0m \u001b[39mdef\u001b[39;00m \u001b[39mpost\u001b[39m(\n\u001b[1;32m   1083\u001b[0m     \u001b[39mself\u001b[39m,\n\u001b[1;32m   1084\u001b[0m     path: \u001b[39mstr\u001b[39m,\n\u001b[0;32m   (...)\u001b[0m\n\u001b[1;32m   1091\u001b[0m     stream_cls: \u001b[39mtype\u001b[39m[_StreamT] \u001b[39m|\u001b[39m \u001b[39mNone\u001b[39;00m \u001b[39m=\u001b[39m \u001b[39mNone\u001b[39;00m,\n\u001b[1;32m   1092\u001b[0m ) \u001b[39m-\u001b[39m\u001b[39m>\u001b[39m ResponseT \u001b[39m|\u001b[39m _StreamT:\n\u001b[1;32m   1093\u001b[0m     opts \u001b[39m=\u001b[39m FinalRequestOptions\u001b[39m.\u001b[39mconstruct(\n\u001b[1;32m   1094\u001b[0m         method\u001b[39m=\u001b[39m\u001b[39m\"\u001b[39m\u001b[39mpost\u001b[39m\u001b[39m\"\u001b[39m, url\u001b[39m=\u001b[39mpath, json_data\u001b[39m=\u001b[39mbody, files\u001b[39m=\u001b[39mto_httpx_files(files), \u001b[39m*\u001b[39m\u001b[39m*\u001b[39moptions\n\u001b[1;32m   1095\u001b[0m     )\n\u001b[0;32m-> 1096\u001b[0m     \u001b[39mreturn\u001b[39;00m cast(ResponseT, \u001b[39mself\u001b[39;49m\u001b[39m.\u001b[39;49mrequest(cast_to, opts, stream\u001b[39m=\u001b[39;49mstream, stream_cls\u001b[39m=\u001b[39;49mstream_cls))\n",
            "File \u001b[0;32m~/miniforge3/envs/langchain/lib/python3.11/site-packages/openai/_base_client.py:856\u001b[0m, in \u001b[0;36mSyncAPIClient.request\u001b[0;34m(self, cast_to, options, remaining_retries, stream, stream_cls)\u001b[0m\n\u001b[1;32m    847\u001b[0m \u001b[39mdef\u001b[39;00m \u001b[39mrequest\u001b[39m(\n\u001b[1;32m    848\u001b[0m     \u001b[39mself\u001b[39m,\n\u001b[1;32m    849\u001b[0m     cast_to: Type[ResponseT],\n\u001b[0;32m   (...)\u001b[0m\n\u001b[1;32m    854\u001b[0m     stream_cls: \u001b[39mtype\u001b[39m[_StreamT] \u001b[39m|\u001b[39m \u001b[39mNone\u001b[39;00m \u001b[39m=\u001b[39m \u001b[39mNone\u001b[39;00m,\n\u001b[1;32m    855\u001b[0m ) \u001b[39m-\u001b[39m\u001b[39m>\u001b[39m ResponseT \u001b[39m|\u001b[39m _StreamT:\n\u001b[0;32m--> 856\u001b[0m     \u001b[39mreturn\u001b[39;00m \u001b[39mself\u001b[39;49m\u001b[39m.\u001b[39;49m_request(\n\u001b[1;32m    857\u001b[0m         cast_to\u001b[39m=\u001b[39;49mcast_to,\n\u001b[1;32m    858\u001b[0m         options\u001b[39m=\u001b[39;49moptions,\n\u001b[1;32m    859\u001b[0m         stream\u001b[39m=\u001b[39;49mstream,\n\u001b[1;32m    860\u001b[0m         stream_cls\u001b[39m=\u001b[39;49mstream_cls,\n\u001b[1;32m    861\u001b[0m         remaining_retries\u001b[39m=\u001b[39;49mremaining_retries,\n\u001b[1;32m    862\u001b[0m     )\n",
            "File \u001b[0;32m~/miniforge3/envs/langchain/lib/python3.11/site-packages/openai/_base_client.py:908\u001b[0m, in \u001b[0;36mSyncAPIClient._request\u001b[0;34m(self, cast_to, options, remaining_retries, stream, stream_cls)\u001b[0m\n\u001b[1;32m    905\u001b[0m     \u001b[39mif\u001b[39;00m \u001b[39mnot\u001b[39;00m err\u001b[39m.\u001b[39mresponse\u001b[39m.\u001b[39mis_closed:\n\u001b[1;32m    906\u001b[0m         err\u001b[39m.\u001b[39mresponse\u001b[39m.\u001b[39mread()\n\u001b[0;32m--> 908\u001b[0m     \u001b[39mraise\u001b[39;00m \u001b[39mself\u001b[39m\u001b[39m.\u001b[39m_make_status_error_from_response(err\u001b[39m.\u001b[39mresponse) \u001b[39mfrom\u001b[39;00m \u001b[39mNone\u001b[39;00m\n\u001b[1;32m    909\u001b[0m \u001b[39mexcept\u001b[39;00m httpx\u001b[39m.\u001b[39mTimeoutException \u001b[39mas\u001b[39;00m err:\n\u001b[1;32m    910\u001b[0m     \u001b[39mif\u001b[39;00m response \u001b[39mis\u001b[39;00m \u001b[39mnot\u001b[39;00m \u001b[39mNone\u001b[39;00m:\n",
            "\u001b[0;31mAuthenticationError\u001b[0m: Error code: 401 - {'error': {'message': 'Incorrect API key provided: sk-tWsmC***************************************2PVZ. You can find your API key at https://platform.openai.com/account/api-keys.', 'type': 'invalid_request_error', 'param': None, 'code': 'invalid_api_key'}}"
          ]
        }
      ],
      "source": [
        "# Construct the llm_config\n",
        "llm_config = {  # Generate functions config for the Tool\n",
        "    \"config_list\": config_list,  # Assuming you have this defined elsewhere\n",
        "    \"timeout\": 120,\n",
        "}\n",
        "\n",
        "professor = autogen.UserProxyAgent(\n",
        "    name=\"professor\",\n",
        "    is_termination_msg=lambda x: x.get(\"content\", \"\") and x.get(\"content\", \"\").rstrip().endswith(\"TERMINATE\"),\n",
        "    human_input_mode=\"NEVER\",\n",
        "    max_consecutive_auto_reply=10,\n",
        "    code_execution_config={\"work_dir\": \"coding\"},\n",
        "    system_message=\"You are a university hospital professor of psychiatry teaching trainees. You have to review the submitted report and if satisfied, utter 'TERMINATE'\",\n",
        ")\n",
        "\n",
        "# # Register the tool and start the conversation\n",
        "# professor.register_function(\n",
        "#     function_map={\n",
        "#         read_file_tool.name: read_file_tool._run,\n",
        "#     }\n",
        "# )\n",
        "\n",
        "presenter = autogen.AssistantAgent(\n",
        "    name=\"presenter\",\n",
        "    system_message=\"You are a resident of psychiatry in a teaching hospital. You have to submit a report after reviewing the give case. Before doing that, you have to fiercely discuss with your collegues about all the possible of diagnosis and underlying psychopathology of the given case. You have to defend yourself from the critic fromn critic and provide solid rationale for your opinion\",\n",
        "    llm_config=llm_config,\n",
        ")\n",
        "\n",
        "critic = autogen.AssistantAgent(\n",
        "    name=\"critic\",\n",
        "    system_message=\"You are a fierce and relentless critic of other trainees. You have to identify and point out logical flaws of the opinion of the presenter. You may give out different interpretation from other perspectives, but, in doing so, you have to defend yourself with solid rationale.\",\n",
        "    llm_config=llm_config,\n",
        ")\n",
        "\n",
        "verifier = autogen.AssistantAgent(\n",
        "    name=\"verifier\",\n",
        "    system_message=\"You are Ph.D. student studying the relevance of DSM-5 diagnostic criteria in actual clinical practice. Based on the discussion between presenter and critic, you have to verify the validity of their arguments matching each diagnosis to the respective DSM-5 criteria. It is important to remember that the final diagnosis does not entirely depend on DSM-5, but it should be emphasized that it is still quite important.\",\n",
        ")\n",
        "\n",
        "groupchat = autogen.GroupChat(agents=[presenter, critic, verifier, professor], messages=[], max_round=20)\n",
        "manager = autogen.GroupChatManager(groupchat=groupchat, llm_config=llm_config)\n",
        "\n",
        "professor.initiate_chat(\n",
        "    manager,\n",
        "    message=f\"Read the following case report. \\n\\n {get_file()} \\n\\n After thorough discussion, submit a report containing the possible diagnosis and psychodynamic formulation\",\n",
        "    llm_config=llm_config,\n",
        ")"
      ]
    },
    {
      "cell_type": "code",
      "execution_count": null,
      "metadata": {},
      "outputs": [],
      "source": []
    }
  ],
  "metadata": {
    "colab": {
      "provenance": []
    },
    "kernelspec": {
      "display_name": "langchain",
      "language": "python",
      "name": "langchain"
    },
    "language_info": {
      "codemirror_mode": {
        "name": "ipython",
        "version": 3
      },
      "file_extension": ".py",
      "mimetype": "text/x-python",
      "name": "python",
      "nbconvert_exporter": "python",
      "pygments_lexer": "ipython3",
      "version": "3.11.6"
    }
  },
  "nbformat": 4,
  "nbformat_minor": 5
}
