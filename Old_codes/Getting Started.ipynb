{
 "cells": [
  {
   "cell_type": "code",
   "execution_count": 4,
   "metadata": {},
   "outputs": [],
   "source": [
    "import os\n",
    "import autogen\n",
    "from autogen import UserProxyAgent, AssistantAgent\n",
    "from autogen.agentchat.contrib.gpt_assistant_agent import GPTAssistantAgent\n",
    "from langchain.chat_models import ChatOpenAI\n",
    "from autogen import config_list_from_json\n",
    "from dotenv import load_dotenv"
   ]
  },
  {
   "cell_type": "code",
   "execution_count": 35,
   "metadata": {},
   "outputs": [],
   "source": [
    "load_dotenv()\n",
    "brwoserless_api_key = os.getenv(\"BROWSERLESS_API_KEY\")\n",
    "serp_api_key = os.getenv(\"SERP_API_KEY\")\n",
    "config_list = config_list_from_json(\"OAI_CONFIG_LIST\")\n",
    "orca_config_list = config_list_from_json(\"ORCA_CONFIG_LIST\")"
   ]
  },
  {
   "cell_type": "markdown",
   "metadata": {},
   "source": [
    "### llm_config"
   ]
  },
  {
   "cell_type": "code",
   "execution_count": 6,
   "metadata": {},
   "outputs": [],
   "source": [
    "llm_config = {\"seed\": 44, \"config_list\": config_list, \"temperature\": 0}"
   ]
  },
  {
   "cell_type": "code",
   "execution_count": 7,
   "metadata": {},
   "outputs": [],
   "source": [
    "# assistant = AssistantAgent(\n",
    "#     name=\"assistant\",\n",
    "#     llm_config=llm_config,\n",
    "# )\n",
    "# user = UserProxyAgent(\n",
    "#     name=\"user\",\n",
    "#     llm_config=llm_config,\n",
    "#     human_input_mode=\"NEVER\",\n",
    "#     is_termination_msg=lambda x: \"TERMINATE\" in x.get(\"content\", \"\"),\n",
    "#     code_execution_config={\"work_dir\": \"coding\", \"use_docker\": False},\n",
    "# )"
   ]
  },
  {
   "cell_type": "code",
   "execution_count": 8,
   "metadata": {},
   "outputs": [],
   "source": [
    "# groupchat = autogen.GroupChat(agents=[user, assistant], messages=[], max_round=10)\n",
    "# manager = autogen.GroupChatManager(groupchat=groupchat, llm_config=llm_config)"
   ]
  },
  {
   "cell_type": "code",
   "execution_count": 9,
   "metadata": {},
   "outputs": [],
   "source": [
    "# user.initiate_chat(\n",
    "#     manager,\n",
    "#     message=\"Provide a code for a function to get all the prime numbers less than a given interger. and write the code to a file\",\n",
    "# )"
   ]
  },
  {
   "cell_type": "code",
   "execution_count": 26,
   "metadata": {},
   "outputs": [],
   "source": [
    "llm_config = {\"config_list\": orca_config_list, \"temperature\": 0}"
   ]
  },
  {
   "cell_type": "code",
   "execution_count": 30,
   "metadata": {},
   "outputs": [],
   "source": [
    "assistant = AssistantAgent(\n",
    "    name=\"assistant\",\n",
    "    llm_config=llm_config,\n",
    ")\n",
    "user = UserProxyAgent(\n",
    "    name=\"user\",\n",
    "    llm_config=llm_config,\n",
    "    human_input_mode=\"TERMINATE\",\n",
    "    max_consecutive_auto_reply=10,\n",
    "    is_termination_msg=lambda x: \"TERMINATE\" in x.get(\"content\", \"\"),\n",
    "    code_execution_config={\"work_dir\": \"coding\", \"use_docker\": False},\n",
    "    system_message=\"\"\"\n",
    "    reply TERMINATE if the task has been solved. Otherwise, reply CONTINUE or the reason why the task is not satisfactory.\n",
    "    \"\"\",\n",
    ")"
   ]
  },
  {
   "cell_type": "code",
   "execution_count": 31,
   "metadata": {},
   "outputs": [],
   "source": [
    "groupchat = autogen.GroupChat(agents=[user, assistant], messages=[], max_round=10)\n",
    "manager = autogen.GroupChatManager(groupchat=groupchat, llm_config=llm_config)"
   ]
  },
  {
   "cell_type": "code",
   "execution_count": 34,
   "metadata": {},
   "outputs": [
    {
     "name": "stdout",
     "output_type": "stream",
     "text": [
      "\u001b[33muser\u001b[0m (to assistant):\n",
      "\n",
      "write a code to get all the prime numbers less than a given interger and write the code to a file. User has to run the code to verify it\n",
      "\n",
      "--------------------------------------------------------------------------------\n",
      "\u001b[33massistant\u001b[0m (to user):\n",
      "\n",
      "To write a code to get all the prime numbers less than a given integer and write the code to a file, you can use the following steps:\n",
      "\n",
      "1. Define a function called is_prime that takes an integer as an argument and returns True if it is a prime number, and False otherwise. To check if a number is prime, you can use a loop to test if it has any divisors other than 1 and itself. If you find any divisor, you can return False immediately. Otherwise, you can return True after the loop ends. For example:\n",
      "\n",
      "def is_prime(n):\n",
      "  # n is the integer to be checked\n",
      "  # Loop from 2 to the square root of n, with a step of 1\n",
      "  for i in range(2, int(n**0.5) + 1):\n",
      "    # If i divides n, return False\n",
      "    if n % i == 0:\n",
      "      return False\n",
      "  # If no divisor is found, return True\n",
      "  return True\n",
      "\n",
      "2. Define a function called write_primes that takes two arguments: a maximum integer and a file name. The function uses the is_prime function to generate a list of all the prime numbers less than or equal to the maximum integer. Then, it writes the list to the file using the open and write functions. For example:\n",
      "\n",
      "def write_primes(max_int, file_name):\n",
      "  # Generate a list of prime numbers using is_prime function\n",
      "  primes = [n for n in range(2, max_int + 1) if is_prime(n)]\n",
      "  # Write the list to the file\n",
      "  with open(file_name, 'w') as f:\n",
      "    # Loop through the list and write each element to the file\n",
      "    for p in primes:\n",
      "      f.write(str(p) + '\\n')\n",
      "\n",
      "3. To execute the code and write the output to a file, you can run the following commands in your terminal or shell:\n",
      "\n",
      "# Save the code in a file called prime_generator.py\n",
      "# This is the filename for the next step\n",
      "filename = 'prime_generator.py'\n",
      "# Execute the code using the python interpreter\n",
      "python prime_generator.py 100 output.txt\n",
      "# Replace 100 with any integer you want as the maximum value, and output.txt with any file name you want for the output file\n",
      "# The code will generate a list of all the prime numbers less than or equal to 100 and write it to the output.txt file\n",
      "\n",
      "The output of the code should look something like this:\n",
      "\n",
      "2\n",
      "3\n",
      "5\n",
      "7\n",
      "11\n",
      "13\n",
      "17\n",
      "19\n",
      "23\n",
      "29\n",
      "31\n",
      "37\n",
      "41\n",
      "43\n",
      "47\n",
      "53\n",
      "59\n",
      "61\n",
      "67\n",
      "71\n",
      "73\n",
      "79\n",
      "83\n",
      "89\n",
      "\n",
      "### Final answer: The code to get all the prime numbers less than a given integer and write the code to a file is:\n",
      "\n",
      "def is_prime(n):\n",
      "  # n is the integer to be checked\n",
      "  # Loop from 2 to the square root of n, with a step of 1\n",
      "  for i in range(2, int(n**0.5) + 1):\n",
      "    # If i divides n, return False\n",
      "    if n % i == 0:\n",
      "      return False\n",
      "  # If no divisor is found, return True\n",
      "  return True\n",
      "\n",
      "def write_primes(max_int, file_name):\n",
      "  # Generate a list of prime numbers using is_prime function\n",
      "  primes = [n for n in range(2, max_int + 1) if is_prime(n)]\n",
      "  # Write the list to the file\n",
      "  with open(file_name, 'w') as f:\n",
      "    # Loop through the list and write each element to the file\n",
      "    for p in primes:\n",
      "      f.write(str(p) + '\\n')\n",
      "\n",
      "# To execute the code and write the output to a file, run the following command in your terminal or shell:\n",
      "python prime_generator.py 100 output.txt\n",
      "\n",
      "--------------------------------------------------------------------------------\n",
      "\u001b[31m\n",
      ">>>>>>>> USING AUTO REPLY...\u001b[0m\n",
      "\u001b[33muser\u001b[0m (to assistant):\n",
      "\n",
      "TERMINATE\n",
      "\n",
      "--------------------------------------------------------------------------------\n"
     ]
    }
   ],
   "source": [
    "user.initiate_chat(\n",
    "    assistant,\n",
    "    message=\"write a code to get all the prime numbers less than a given interger and write the code to a file. User has to run the code to verify it\",\n",
    ")"
   ]
  },
  {
   "cell_type": "code",
   "execution_count": null,
   "metadata": {},
   "outputs": [],
   "source": []
  }
 ],
 "metadata": {
  "kernelspec": {
   "display_name": "llm",
   "language": "python",
   "name": "llm"
  },
  "language_info": {
   "codemirror_mode": {
    "name": "ipython",
    "version": 3
   },
   "file_extension": ".py",
   "mimetype": "text/x-python",
   "name": "python",
   "nbconvert_exporter": "python",
   "pygments_lexer": "ipython3",
   "version": "3.11.6"
  }
 },
 "nbformat": 4,
 "nbformat_minor": 2
}
